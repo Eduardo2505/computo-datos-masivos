{
 "cells": [
  {
   "cell_type": "code",
   "execution_count": 43,
   "metadata": {},
   "outputs": [
    {
     "data": {
      "application/vnd.jupyter.widget-view+json": {
       "model_id": "f7d9b916271549f1832368d6784c99dd",
       "version_major": 2,
       "version_minor": 0
      },
      "text/plain": [
       "VBox()"
      ]
     },
     "metadata": {},
     "output_type": "display_data"
    },
    {
     "data": {
      "application/vnd.jupyter.widget-view+json": {
       "model_id": "",
       "version_major": 2,
       "version_minor": 0
      },
      "text/plain": [
       "FloatProgress(value=0.0, bar_style='info', description='Progress:', layout=Layout(height='25px', width='50%'),…"
      ]
     },
     "metadata": {},
     "output_type": "display_data"
    }
   ],
   "source": [
    "# Spark"
   ]
  },
  {
   "cell_type": "code",
   "execution_count": 44,
   "metadata": {},
   "outputs": [
    {
     "data": {
      "application/vnd.jupyter.widget-view+json": {
       "model_id": "731d2b342e6b4a489b93cb8c9f0f93e4",
       "version_major": 2,
       "version_minor": 0
      },
      "text/plain": [
       "VBox()"
      ]
     },
     "metadata": {},
     "output_type": "display_data"
    },
    {
     "data": {
      "application/vnd.jupyter.widget-view+json": {
       "model_id": "",
       "version_major": 2,
       "version_minor": 0
      },
      "text/plain": [
       "FloatProgress(value=0.0, bar_style='info', description='Progress:', layout=Layout(height='25px', width='50%'),…"
      ]
     },
     "metadata": {},
     "output_type": "display_data"
    },
    {
     "name": "stderr",
     "output_type": "stream",
     "text": [
      "An error was encountered:\n",
      "'SparkSession' object has no attribute 'install_pypi_package'\n",
      "Traceback (most recent call last):\n",
      "AttributeError: 'SparkSession' object has no attribute 'install_pypi_package'\n",
      "\n"
     ]
    }
   ],
   "source": [
    "# Instalat las librerias que usaremos\n",
    "sc.install_pypi_package(\"pandas\") \n",
    "sc.install_pypi_package(\"matplotlib\")\n",
    "sc.install_pypi_package(\"seaborn\")\n",
    "sc.install_pypi_package(\"scikit-learn==0.23.2\")\n"
   ]
  },
  {
   "cell_type": "code",
   "execution_count": 45,
   "metadata": {},
   "outputs": [
    {
     "data": {
      "application/vnd.jupyter.widget-view+json": {
       "model_id": "e013568f26f54667a58139d864196c46",
       "version_major": 2,
       "version_minor": 0
      },
      "text/plain": [
       "VBox()"
      ]
     },
     "metadata": {},
     "output_type": "display_data"
    },
    {
     "data": {
      "application/vnd.jupyter.widget-view+json": {
       "model_id": "",
       "version_major": 2,
       "version_minor": 0
      },
      "text/plain": [
       "FloatProgress(value=0.0, bar_style='info', description='Progress:', layout=Layout(height='25px', width='50%'),…"
      ]
     },
     "metadata": {},
     "output_type": "display_data"
    }
   ],
   "source": [
    "import numpy as np\n",
    "import pandas as pd\n",
    "from pyspark.sql import SparkSession\n",
    "from pyspark.sql.functions import udf\n",
    "from pyspark.sql import Window\n",
    "from pyspark.sql import functions as F\n",
    "from pyspark.sql.functions import sum as Fsum\n",
    "from pyspark.sql.types import ArrayType, BooleanType, LongType, FloatType, IntegerType\n",
    "from pyspark.sql.functions import lit, udf, struct, countDistinct, collect_list, avg, count, col\n",
    "from pyspark.ml.feature import VectorAssembler, Normalizer, StandardScaler\n",
    "from pyspark.ml.classification import LogisticRegression, RandomForestClassifier, GBTClassifier\n",
    "from pyspark.ml.evaluation import MulticlassClassificationEvaluator, BinaryClassificationEvaluator\n",
    "from pyspark.ml import Pipeline\n",
    "import matplotlib.pyplot as plt\n",
    "from sklearn.metrics import roc_curve\n",
    "from sklearn.metrics import precision_recall_curve\n",
    "from pyspark.ml.tuning import CrossValidator, ParamGridBuilder"
   ]
  },
  {
   "cell_type": "code",
   "execution_count": 46,
   "metadata": {},
   "outputs": [
    {
     "data": {
      "application/vnd.jupyter.widget-view+json": {
       "model_id": "6129000bc29f40a984b5b57d97e4c99d",
       "version_major": 2,
       "version_minor": 0
      },
      "text/plain": [
       "VBox()"
      ]
     },
     "metadata": {},
     "output_type": "display_data"
    },
    {
     "data": {
      "application/vnd.jupyter.widget-view+json": {
       "model_id": "",
       "version_major": 2,
       "version_minor": 0
      },
      "text/plain": [
       "FloatProgress(value=0.0, bar_style='info', description='Progress:', layout=Layout(height='25px', width='50%'),…"
      ]
     },
     "metadata": {},
     "output_type": "display_data"
    }
   ],
   "source": [
    "from pyspark.sql import SparkSession\n",
    "from pyspark.sql import SQLContext\n",
    "\n",
    "sc = SparkSession \\\n",
    "        .builder \\\n",
    "        .appName(\"elt_json\") \\\n",
    "        .getOrCreate()"
   ]
  },
  {
   "cell_type": "code",
   "execution_count": 47,
   "metadata": {},
   "outputs": [
    {
     "data": {
      "application/vnd.jupyter.widget-view+json": {
       "model_id": "1997c932d79048b68cd882864d8456aa",
       "version_major": 2,
       "version_minor": 0
      },
      "text/plain": [
       "VBox()"
      ]
     },
     "metadata": {},
     "output_type": "display_data"
    },
    {
     "data": {
      "application/vnd.jupyter.widget-view+json": {
       "model_id": "",
       "version_major": 2,
       "version_minor": 0
      },
      "text/plain": [
       "FloatProgress(value=0.0, bar_style='info', description='Progress:', layout=Layout(height='25px', width='50%'),…"
      ]
     },
     "metadata": {},
     "output_type": "display_data"
    }
   ],
   "source": [
    "# Loading the Data Set\n",
    "#df = \"s3://iexetec-academics-public/mcdia/cdm/resources/sparkify_event_data.json\"\n",
    "df = \"s3://iexe-emr-sparkify/data/sparkify_event_data.json\"\n",
    "df = sc.read.json(df)"
   ]
  },
  {
   "cell_type": "code",
   "execution_count": 48,
   "metadata": {},
   "outputs": [
    {
     "data": {
      "application/vnd.jupyter.widget-view+json": {
       "model_id": "7215fab4e3b94a24bce40be4f8359436",
       "version_major": 2,
       "version_minor": 0
      },
      "text/plain": [
       "VBox()"
      ]
     },
     "metadata": {},
     "output_type": "display_data"
    },
    {
     "data": {
      "application/vnd.jupyter.widget-view+json": {
       "model_id": "",
       "version_major": 2,
       "version_minor": 0
      },
      "text/plain": [
       "FloatProgress(value=0.0, bar_style='info', description='Progress:', layout=Layout(height='25px', width='50%'),…"
      ]
     },
     "metadata": {},
     "output_type": "display_data"
    },
    {
     "name": "stdout",
     "output_type": "stream",
     "text": [
      "root\n",
      " |-- artist: string (nullable = true)\n",
      " |-- auth: string (nullable = true)\n",
      " |-- firstName: string (nullable = true)\n",
      " |-- gender: string (nullable = true)\n",
      " |-- itemInSession: long (nullable = true)\n",
      " |-- lastName: string (nullable = true)\n",
      " |-- length: double (nullable = true)\n",
      " |-- level: string (nullable = true)\n",
      " |-- location: string (nullable = true)\n",
      " |-- method: string (nullable = true)\n",
      " |-- page: string (nullable = true)\n",
      " |-- registration: long (nullable = true)\n",
      " |-- sessionId: long (nullable = true)\n",
      " |-- song: string (nullable = true)\n",
      " |-- status: long (nullable = true)\n",
      " |-- ts: long (nullable = true)\n",
      " |-- userAgent: string (nullable = true)\n",
      " |-- userId: string (nullable = true)"
     ]
    }
   ],
   "source": [
    "# check the structure and column names of the dataset\n",
    "df.printSchema()"
   ]
  },
  {
   "cell_type": "code",
   "execution_count": 49,
   "metadata": {},
   "outputs": [
    {
     "data": {
      "application/vnd.jupyter.widget-view+json": {
       "model_id": "71c193d3069541f9b01d72b3a9518caa",
       "version_major": 2,
       "version_minor": 0
      },
      "text/plain": [
       "VBox()"
      ]
     },
     "metadata": {},
     "output_type": "display_data"
    },
    {
     "data": {
      "application/vnd.jupyter.widget-view+json": {
       "model_id": "",
       "version_major": 2,
       "version_minor": 0
      },
      "text/plain": [
       "FloatProgress(value=0.0, bar_style='info', description='Progress:', layout=Layout(height='25px', width='50%'),…"
      ]
     },
     "metadata": {},
     "output_type": "display_data"
    },
    {
     "name": "stdout",
     "output_type": "stream",
     "text": [
      "[Row(artist='Popol Vuh', auth='Logged In', firstName='Shlok', gender='M', itemInSession=278, lastName='Johnson', length=524.32934, level='paid', location='Dallas-Fort Worth-Arlington, TX', method='PUT', page='NextSong', registration=1533734541000, sessionId=22683, song='Ich mache einen Spiegel - Dream Part 4', status=200, ts=1538352001000, userAgent='\"Mozilla/5.0 (Windows NT 6.1; WOW64) AppleWebKit/537.36 (KHTML, like Gecko) Chrome/36.0.1985.143 Safari/537.36\"', userId='1749042')]"
     ]
    }
   ],
   "source": [
    "# check the first row to see what the data looks like\n",
    "df.take(1)"
   ]
  },
  {
   "cell_type": "code",
   "execution_count": 50,
   "metadata": {},
   "outputs": [
    {
     "data": {
      "application/vnd.jupyter.widget-view+json": {
       "model_id": "06970a96662a4bd09de1d599f0aeecf1",
       "version_major": 2,
       "version_minor": 0
      },
      "text/plain": [
       "VBox()"
      ]
     },
     "metadata": {},
     "output_type": "display_data"
    },
    {
     "data": {
      "application/vnd.jupyter.widget-view+json": {
       "model_id": "",
       "version_major": 2,
       "version_minor": 0
      },
      "text/plain": [
       "FloatProgress(value=0.0, bar_style='info', description='Progress:', layout=Layout(height='25px', width='50%'),…"
      ]
     },
     "metadata": {},
     "output_type": "display_data"
    },
    {
     "name": "stdout",
     "output_type": "stream",
     "text": [
      "+--------------------+----------+---------+------+-------------+---------+----------+-----+--------------------+------+--------+-------------+---------+--------------------+------+-------------+--------------------+-------+\n",
      "|              artist|      auth|firstName|gender|itemInSession| lastName|    length|level|            location|method|    page| registration|sessionId|                song|status|           ts|           userAgent| userId|\n",
      "+--------------------+----------+---------+------+-------------+---------+----------+-----+--------------------+------+--------+-------------+---------+--------------------+------+-------------+--------------------+-------+\n",
      "|           Popol Vuh| Logged In|    Shlok|     M|          278|  Johnson| 524.32934| paid|Dallas-Fort Worth...|   PUT|NextSong|1533734541000|    22683|Ich mache einen S...|   200|1538352001000|\"Mozilla/5.0 (Win...|1749042|\n",
      "|         Los Bunkers| Logged In|  Vianney|     F|            9|   Miller| 238.39302| paid|San Francisco-Oak...|   PUT|NextSong|1537500318000|    20836|         MiÃÂ©ntele|   200|1538352002000|\"Mozilla/5.0 (Mac...|1563081|\n",
      "|                Lush| Logged In|     Vina|     F|          109|   Bailey| 140.35546| paid|            Hilo, HI|   PUT|NextSong|1536414505000|     4593|           Baby Talk|   200|1538352002000|Mozilla/5.0 (Maci...|1697168|\n",
      "|Barry Tuckwell/Ac...| Logged In|   Andres|     M|           71|    Foley| 277.15873| paid|       Watertown, SD|   PUT|NextSong|1534386660000|     6370|Horn Concerto No....|   200|1538352003000|\"Mozilla/5.0 (Mac...|1222580|\n",
      "|                 Yes| Logged In|  Aaliyah|     F|           21|  Ramirez|1121.25342| paid|Baltimore-Columbi...|   PUT|NextSong|1537381415000|    22316|Close To The Edge...|   200|1538352003000|\"Mozilla/5.0 (Win...|1714398|\n",
      "|                MGMT| Logged In|     Ryan|     M|            8| Williams| 229.25016| paid|Cape Coral-Fort M...|   PUT|NextSong|1537602560000|    23924|       Electric Feel|   200|1538352004000|\"Mozilla/5.0 (Win...|1010522|\n",
      "|   Animal Collective| Logged In|    Isaac|     M|            6|    Brown|  313.5473| free|          Kokomo, IN|   PUT|NextSong|1536563853000|     1746|              Bluish|   200|1538352005000|Mozilla/5.0 (Wind...|1475659|\n",
      "|              Eminem| Logged In| Jonathan|     M|           29|   Martin|  250.8273| free|New York-Newark-J...|   PUT|NextSong|1538069376000|    22483|         Mockingbird|   200|1538352006000|\"Mozilla/5.0 (Win...|1465194|\n",
      "|         Leona Lewis| Logged In| Jennifer|     F|            0|  Shelton| 203.88526| free|      Pittsburgh, PA|   PUT|NextSong|1536455539000|    25128|          Forgive Me|   200|1538352006000|\"Mozilla/5.0 (Win...|1558463|\n",
      "|     The Cranberries| Logged In|  Michael|     M|           13|    Riley| 183.87546| paid|Albany-Schenectad...|   PUT|NextSong|1533220062000|     3992|         The Concept|   200|1538352006000|\"Mozilla/5.0 (Win...|1605667|\n",
      "|        Mariah Carey| Logged In|    Azari|     M|           37|   Hansen|  265.9522| free|    Martinsville, VA|   PUT|NextSong|1534393835000|    14642|Anytime You Need ...|   200|1538352006000|\"Mozilla/5.0 (X11...|1385500|\n",
      "|Johnny Cash with ...| Logged In|    Riley|     F|          300|Hernandez| 199.81016| paid|         Reading, PA|   PUT|NextSong|1537618545000|    14853|   Nine Pound Hammer|   200|1538352006000|\"Mozilla/5.0 (Mac...|1032628|\n",
      "|            Gorillaz| Logged In|    Brian|     M|           73|    Allen| 131.91791| free|San Diego-Carlsba...|   PUT|NextSong|1537868758000|     2526|Don't Get Lost In...|   200|1538352007000|\"Mozilla/5.0 (Mac...|1901081|\n",
      "|     Los Prisioneros| Logged In|  Brayden|     M|           95|Armstrong| 248.78975| paid|Dallas-Fort Worth...|   PUT|NextSong|1534635513000|    23917|   La Voz De Los '80|   200|1538352007000|\"Mozilla/5.0 (Win...|1611729|\n",
      "|   The White Stripes| Logged In|   Brooke|     F|            6|    Kirby| 126.40608| paid|Los Angeles-Long ...|   PUT|NextSong|1531817572000|    14085|          Good To Me|   200|1538352008000|\"Mozilla/5.0 (Win...|1497881|\n",
      "|   Brigitte Fontaine| Logged In|  Caitlin|     F|          117|  Barnett| 355.57832| free|Philadelphia-Camd...|   PUT|NextSong|1528964849000|     2303|Ah Que La Vie Est...|   200|1538352008000|\"Mozilla/5.0 (Mac...|1413952|\n",
      "|      Alien Ant Farm| Logged In|   Aminah|     F|            8|    Payne|  204.7473| free|Virginia Beach-No...|   PUT|NextSong|1536761240000|    19434|                Wish|   200|1538352008000|Mozilla/5.0 (X11;...|1585800|\n",
      "|                null|Logged Out|     null|  null|           87|     null|      null| paid|                null|   GET|    Home|         null|     8615|                null|   200|1538352008000|                null|1261737|\n",
      "|                null| Logged In|  Valarie|     F|          206|    Moore|      null| paid|Los Angeles-Long ...|   GET|    Home|1537790336000|     2948|                null|   200|1538352008000|\"Mozilla/5.0 (Win...|1009070|\n",
      "|          Dan Mangan| Logged In|    Hanna|     F|           15|   Peters| 293.85098| free|Boston-Cambridge-...|   PUT|NextSong|1534217490000|     7804|Some Place To Com...|   200|1538352010000|\"Mozilla/5.0 (Win...|1041334|\n",
      "+--------------------+----------+---------+------+-------------+---------+----------+-----+--------------------+------+--------+-------------+---------+--------------------+------+-------------+--------------------+-------+\n",
      "only showing top 20 rows"
     ]
    }
   ],
   "source": [
    "df.show()"
   ]
  },
  {
   "cell_type": "code",
   "execution_count": 51,
   "metadata": {},
   "outputs": [
    {
     "data": {
      "application/vnd.jupyter.widget-view+json": {
       "model_id": "82be7fbf24f04a49be691b2b8de4c4fa",
       "version_major": 2,
       "version_minor": 0
      },
      "text/plain": [
       "VBox()"
      ]
     },
     "metadata": {},
     "output_type": "display_data"
    },
    {
     "data": {
      "application/vnd.jupyter.widget-view+json": {
       "model_id": "",
       "version_major": 2,
       "version_minor": 0
      },
      "text/plain": [
       "FloatProgress(value=0.0, bar_style='info', description='Progress:', layout=Layout(height='25px', width='50%'),…"
      ]
     },
     "metadata": {},
     "output_type": "display_data"
    },
    {
     "name": "stdout",
     "output_type": "stream",
     "text": [
      "Numero de filas:  26259199\n",
      "Numero de columnas:  18"
     ]
    }
   ],
   "source": [
    "# Numero de Filas\n",
    "print('Numero de filas: ', df.count())\n",
    "\n",
    "# Numero de Columnas\n",
    "print('Numero de columnas: ' ,len(df.columns))"
   ]
  },
  {
   "cell_type": "code",
   "execution_count": 52,
   "metadata": {},
   "outputs": [
    {
     "data": {
      "application/vnd.jupyter.widget-view+json": {
       "model_id": "3370d2e633e74d37af271e3e46f9096a",
       "version_major": 2,
       "version_minor": 0
      },
      "text/plain": [
       "VBox()"
      ]
     },
     "metadata": {},
     "output_type": "display_data"
    },
    {
     "data": {
      "application/vnd.jupyter.widget-view+json": {
       "model_id": "",
       "version_major": 2,
       "version_minor": 0
      },
      "text/plain": [
       "FloatProgress(value=0.0, bar_style='info', description='Progress:', layout=Layout(height='25px', width='50%'),…"
      ]
     },
     "metadata": {},
     "output_type": "display_data"
    },
    {
     "name": "stdout",
     "output_type": "stream",
     "text": [
      "+------+----+---------+------+-------------+--------+------+-----+--------+------+----+------------+---------+----+------+---+---------+------+\n",
      "|artist|auth|firstName|gender|itemInSession|lastName|length|level|location|method|page|registration|sessionId|song|status| ts|userAgent|userId|\n",
      "+------+----+---------+------+-------------+--------+------+-----+--------+------+----+------------+---------+----+------+---+---------+------+\n",
      "|     0|   0|        0|     0|            0|       0|     0|    0|       0|     0|   0|           0|        0|   3|     0|  0|        0|     0|\n",
      "+------+----+---------+------+-------------+--------+------+-----+--------+------+----+------------+---------+----+------+---+---------+------+"
     ]
    }
   ],
   "source": [
    "# Numero de NaNs por columna\n",
    "from pyspark.sql.functions import avg, col, concat, desc, explode, lit, min\n",
    "from pyspark.sql.functions import max, sum, split, udf, isnan, when, count, countDistinct\n",
    "df.select([count(when(isnan(c), c)).alias(c) for c in df.columns]).show()"
   ]
  },
  {
   "cell_type": "code",
   "execution_count": 53,
   "metadata": {},
   "outputs": [
    {
     "data": {
      "application/vnd.jupyter.widget-view+json": {
       "model_id": "3a82cbf1292c4edb89dbc3bf3fe71d60",
       "version_major": 2,
       "version_minor": 0
      },
      "text/plain": [
       "VBox()"
      ]
     },
     "metadata": {},
     "output_type": "display_data"
    },
    {
     "data": {
      "application/vnd.jupyter.widget-view+json": {
       "model_id": "",
       "version_major": 2,
       "version_minor": 0
      },
      "text/plain": [
       "FloatProgress(value=0.0, bar_style='info', description='Progress:', layout=Layout(height='25px', width='50%'),…"
      ]
     },
     "metadata": {},
     "output_type": "display_data"
    },
    {
     "name": "stdout",
     "output_type": "stream",
     "text": [
      "+-------+----+---------+------+-------------+--------+-------+-----+--------+------+----+------------+---------+-------+------+---+---------+------+\n",
      "| artist|auth|firstName|gender|itemInSession|lastName| length|level|location|method|page|registration|sessionId|   song|status| ts|userAgent|userId|\n",
      "+-------+----+---------+------+-------------+--------+-------+-----+--------+------+----+------------+---------+-------+------+---+---------+------+\n",
      "|5408927|   0|   778479|778479|            0|  778479|5408927|    0|  778479|     0|   0|      778479|        0|5408930|     0|  0|   778479|     0|\n",
      "+-------+----+---------+------+-------------+--------+-------+-----+--------+------+----+------------+---------+-------+------+---+---------+------+"
     ]
    }
   ],
   "source": [
    "# Numero de Nulos por columna\n",
    "df.select([count(when(isnan(c) | col(c).isNull(), c)).alias(c) for c in df.columns]).show()"
   ]
  },
  {
   "cell_type": "code",
   "execution_count": 54,
   "metadata": {},
   "outputs": [
    {
     "data": {
      "application/vnd.jupyter.widget-view+json": {
       "model_id": "4fbb53bed39443e2bbe30fd7695e2baf",
       "version_major": 2,
       "version_minor": 0
      },
      "text/plain": [
       "VBox()"
      ]
     },
     "metadata": {},
     "output_type": "display_data"
    },
    {
     "data": {
      "application/vnd.jupyter.widget-view+json": {
       "model_id": "",
       "version_major": 2,
       "version_minor": 0
      },
      "text/plain": [
       "FloatProgress(value=0.0, bar_style='info', description='Progress:', layout=Layout(height='25px', width='50%'),…"
      ]
     },
     "metadata": {},
     "output_type": "display_data"
    },
    {
     "name": "stdout",
     "output_type": "stream",
     "text": [
      "# filas sin id de usuario:  0\n",
      "# filas sin id de sesion:  0"
     ]
    }
   ],
   "source": [
    "# Numero de filas sin usuario o id\n",
    "print('# filas sin id de usuario: ', df.filter(df.userId == \"\").count())\n",
    "print('# filas sin id de sesion: ',df.filter(df.sessionId == \"\").count())"
   ]
  },
  {
   "cell_type": "code",
   "execution_count": 55,
   "metadata": {},
   "outputs": [
    {
     "data": {
      "application/vnd.jupyter.widget-view+json": {
       "model_id": "f7ebe71b634244a8a0f47097300bc88c",
       "version_major": 2,
       "version_minor": 0
      },
      "text/plain": [
       "VBox()"
      ]
     },
     "metadata": {},
     "output_type": "display_data"
    },
    {
     "data": {
      "application/vnd.jupyter.widget-view+json": {
       "model_id": "",
       "version_major": 2,
       "version_minor": 0
      },
      "text/plain": [
       "FloatProgress(value=0.0, bar_style='info', description='Progress:', layout=Layout(height='25px', width='50%'),…"
      ]
     },
     "metadata": {},
     "output_type": "display_data"
    },
    {
     "name": "stdout",
     "output_type": "stream",
     "text": [
      "Numero de filas:  26259199"
     ]
    }
   ],
   "source": [
    "# Utilicemos solo las filas con ids\n",
    "df = df.where((df.userId != \"\"))\n",
    "print('Numero de filas: ', df.count())"
   ]
  },
  {
   "cell_type": "code",
   "execution_count": 56,
   "metadata": {},
   "outputs": [
    {
     "data": {
      "application/vnd.jupyter.widget-view+json": {
       "model_id": "689120a60c0d4dc6b62699dee70f9f77",
       "version_major": 2,
       "version_minor": 0
      },
      "text/plain": [
       "VBox()"
      ]
     },
     "metadata": {},
     "output_type": "display_data"
    },
    {
     "data": {
      "application/vnd.jupyter.widget-view+json": {
       "model_id": "",
       "version_major": 2,
       "version_minor": 0
      },
      "text/plain": [
       "FloatProgress(value=0.0, bar_style='info', description='Progress:', layout=Layout(height='25px', width='50%'),…"
      ]
     },
     "metadata": {},
     "output_type": "display_data"
    },
    {
     "name": "stdout",
     "output_type": "stream",
     "text": [
      "+--------------------+\n",
      "|                page|\n",
      "+--------------------+\n",
      "|               About|\n",
      "|          Add Friend|\n",
      "|     Add to Playlist|\n",
      "|              Cancel|\n",
      "|Cancellation Conf...|\n",
      "|           Downgrade|\n",
      "|               Error|\n",
      "|                Help|\n",
      "|                Home|\n",
      "|               Login|\n",
      "|              Logout|\n",
      "|            NextSong|\n",
      "|            Register|\n",
      "|         Roll Advert|\n",
      "|       Save Settings|\n",
      "|            Settings|\n",
      "|    Submit Downgrade|\n",
      "| Submit Registration|\n",
      "|      Submit Upgrade|\n",
      "|         Thumbs Down|\n",
      "+--------------------+\n",
      "only showing top 20 rows"
     ]
    }
   ],
   "source": [
    "# Revisemos que tipo de acciones ejecutan los usuarios\n",
    "df.select(\"page\").dropDuplicates().sort(\"page\").show()"
   ]
  },
  {
   "cell_type": "markdown",
   "metadata": {},
   "source": [
    "## Time stamps"
   ]
  },
  {
   "cell_type": "code",
   "execution_count": 58,
   "metadata": {},
   "outputs": [
    {
     "data": {
      "application/vnd.jupyter.widget-view+json": {
       "model_id": "d9359dbbe175473b8609768e0b6b7ea2",
       "version_major": 2,
       "version_minor": 0
      },
      "text/plain": [
       "VBox()"
      ]
     },
     "metadata": {},
     "output_type": "display_data"
    },
    {
     "data": {
      "application/vnd.jupyter.widget-view+json": {
       "model_id": "",
       "version_major": 2,
       "version_minor": 0
      },
      "text/plain": [
       "FloatProgress(value=0.0, bar_style='info', description='Progress:', layout=Layout(height='25px', width='50%'),…"
      ]
     },
     "metadata": {},
     "output_type": "display_data"
    },
    {
     "name": "stdout",
     "output_type": "stream",
     "text": [
      "+-----------+---------+---------+------+-------------+--------+---------+-----+--------------------+------+--------+-------------+---------+--------------------+------+-------------+--------------------+-------+\n",
      "|     artist|     auth|firstName|gender|itemInSession|lastName|   length|level|            location|method|    page| registration|sessionId|                song|status|           ts|           userAgent| userId|\n",
      "+-----------+---------+---------+------+-------------+--------+---------+-----+--------------------+------+--------+-------------+---------+--------------------+------+-------------+--------------------+-------+\n",
      "|  Popol Vuh|Logged In|    Shlok|     M|          278| Johnson|524.32934| paid|Dallas-Fort Worth...|   PUT|NextSong|1533734541000|    22683|Ich mache einen S...|   200|1538352001000|\"Mozilla/5.0 (Win...|1749042|\n",
      "|Los Bunkers|Logged In|  Vianney|     F|            9|  Miller|238.39302| paid|San Francisco-Oak...|   PUT|NextSong|1537500318000|    20836|         MiÃÂ©ntele|   200|1538352002000|\"Mozilla/5.0 (Mac...|1563081|\n",
      "+-----------+---------+---------+------+-------------+--------+---------+-----+--------------------+------+--------+-------------+---------+--------------------+------+-------------+--------------------+-------+\n",
      "only showing top 2 rows"
     ]
    }
   ],
   "source": [
    "df.show(2)"
   ]
  },
  {
   "cell_type": "code",
   "execution_count": 64,
   "metadata": {},
   "outputs": [
    {
     "data": {
      "application/vnd.jupyter.widget-view+json": {
       "model_id": "baa8ad63ad7a4b8fa47594de3d237701",
       "version_major": 2,
       "version_minor": 0
      },
      "text/plain": [
       "VBox()"
      ]
     },
     "metadata": {},
     "output_type": "display_data"
    },
    {
     "data": {
      "application/vnd.jupyter.widget-view+json": {
       "model_id": "",
       "version_major": 2,
       "version_minor": 0
      },
      "text/plain": [
       "FloatProgress(value=0.0, bar_style='info', description='Progress:', layout=Layout(height='25px', width='50%'),…"
      ]
     },
     "metadata": {},
     "output_type": "display_data"
    },
    {
     "name": "stdout",
     "output_type": "stream",
     "text": [
      "+--------------------+----------+---------+------+-------------+---------+----------+-----+--------------------+------+--------+-------------+---------+--------------------+------+-------------+--------------------+-------+-------------------+-------------+\n",
      "|              artist|      auth|firstName|gender|itemInSession| lastName|    length|level|            location|method|    page| registration|sessionId|                song|status|           ts|           userAgent| userId|                ts_|registration_|\n",
      "+--------------------+----------+---------+------+-------------+---------+----------+-----+--------------------+------+--------+-------------+---------+--------------------+------+-------------+--------------------+-------+-------------------+-------------+\n",
      "|           Popol Vuh| Logged In|    Shlok|     M|          278|  Johnson| 524.32934| paid|Dallas-Fort Worth...|   PUT|NextSong|1533734541000|    22683|Ich mache einen S...|   200|1538352001000|\"Mozilla/5.0 (Win...|1749042|2018-10-01 00:00:01|1.533734541E9|\n",
      "|         Los Bunkers| Logged In|  Vianney|     F|            9|   Miller| 238.39302| paid|San Francisco-Oak...|   PUT|NextSong|1537500318000|    20836|         MiÃÂ©ntele|   200|1538352002000|\"Mozilla/5.0 (Mac...|1563081|2018-10-01 00:00:02|1.537500318E9|\n",
      "|                Lush| Logged In|     Vina|     F|          109|   Bailey| 140.35546| paid|            Hilo, HI|   PUT|NextSong|1536414505000|     4593|           Baby Talk|   200|1538352002000|Mozilla/5.0 (Maci...|1697168|2018-10-01 00:00:02|1.536414505E9|\n",
      "|Barry Tuckwell/Ac...| Logged In|   Andres|     M|           71|    Foley| 277.15873| paid|       Watertown, SD|   PUT|NextSong|1534386660000|     6370|Horn Concerto No....|   200|1538352003000|\"Mozilla/5.0 (Mac...|1222580|2018-10-01 00:00:03| 1.53438666E9|\n",
      "|                 Yes| Logged In|  Aaliyah|     F|           21|  Ramirez|1121.25342| paid|Baltimore-Columbi...|   PUT|NextSong|1537381415000|    22316|Close To The Edge...|   200|1538352003000|\"Mozilla/5.0 (Win...|1714398|2018-10-01 00:00:03|1.537381415E9|\n",
      "|                MGMT| Logged In|     Ryan|     M|            8| Williams| 229.25016| paid|Cape Coral-Fort M...|   PUT|NextSong|1537602560000|    23924|       Electric Feel|   200|1538352004000|\"Mozilla/5.0 (Win...|1010522|2018-10-01 00:00:04| 1.53760256E9|\n",
      "|   Animal Collective| Logged In|    Isaac|     M|            6|    Brown|  313.5473| free|          Kokomo, IN|   PUT|NextSong|1536563853000|     1746|              Bluish|   200|1538352005000|Mozilla/5.0 (Wind...|1475659|2018-10-01 00:00:05|1.536563853E9|\n",
      "|              Eminem| Logged In| Jonathan|     M|           29|   Martin|  250.8273| free|New York-Newark-J...|   PUT|NextSong|1538069376000|    22483|         Mockingbird|   200|1538352006000|\"Mozilla/5.0 (Win...|1465194|2018-10-01 00:00:06|1.538069376E9|\n",
      "|         Leona Lewis| Logged In| Jennifer|     F|            0|  Shelton| 203.88526| free|      Pittsburgh, PA|   PUT|NextSong|1536455539000|    25128|          Forgive Me|   200|1538352006000|\"Mozilla/5.0 (Win...|1558463|2018-10-01 00:00:06|1.536455539E9|\n",
      "|     The Cranberries| Logged In|  Michael|     M|           13|    Riley| 183.87546| paid|Albany-Schenectad...|   PUT|NextSong|1533220062000|     3992|         The Concept|   200|1538352006000|\"Mozilla/5.0 (Win...|1605667|2018-10-01 00:00:06|1.533220062E9|\n",
      "|        Mariah Carey| Logged In|    Azari|     M|           37|   Hansen|  265.9522| free|    Martinsville, VA|   PUT|NextSong|1534393835000|    14642|Anytime You Need ...|   200|1538352006000|\"Mozilla/5.0 (X11...|1385500|2018-10-01 00:00:06|1.534393835E9|\n",
      "|Johnny Cash with ...| Logged In|    Riley|     F|          300|Hernandez| 199.81016| paid|         Reading, PA|   PUT|NextSong|1537618545000|    14853|   Nine Pound Hammer|   200|1538352006000|\"Mozilla/5.0 (Mac...|1032628|2018-10-01 00:00:06|1.537618545E9|\n",
      "|            Gorillaz| Logged In|    Brian|     M|           73|    Allen| 131.91791| free|San Diego-Carlsba...|   PUT|NextSong|1537868758000|     2526|Don't Get Lost In...|   200|1538352007000|\"Mozilla/5.0 (Mac...|1901081|2018-10-01 00:00:07|1.537868758E9|\n",
      "|     Los Prisioneros| Logged In|  Brayden|     M|           95|Armstrong| 248.78975| paid|Dallas-Fort Worth...|   PUT|NextSong|1534635513000|    23917|   La Voz De Los '80|   200|1538352007000|\"Mozilla/5.0 (Win...|1611729|2018-10-01 00:00:07|1.534635513E9|\n",
      "|   The White Stripes| Logged In|   Brooke|     F|            6|    Kirby| 126.40608| paid|Los Angeles-Long ...|   PUT|NextSong|1531817572000|    14085|          Good To Me|   200|1538352008000|\"Mozilla/5.0 (Win...|1497881|2018-10-01 00:00:08|1.531817572E9|\n",
      "|   Brigitte Fontaine| Logged In|  Caitlin|     F|          117|  Barnett| 355.57832| free|Philadelphia-Camd...|   PUT|NextSong|1528964849000|     2303|Ah Que La Vie Est...|   200|1538352008000|\"Mozilla/5.0 (Mac...|1413952|2018-10-01 00:00:08|1.528964849E9|\n",
      "|      Alien Ant Farm| Logged In|   Aminah|     F|            8|    Payne|  204.7473| free|Virginia Beach-No...|   PUT|NextSong|1536761240000|    19434|                Wish|   200|1538352008000|Mozilla/5.0 (X11;...|1585800|2018-10-01 00:00:08| 1.53676124E9|\n",
      "|                null|Logged Out|     null|  null|           87|     null|      null| paid|                null|   GET|    Home|         null|     8615|                null|   200|1538352008000|                null|1261737|2018-10-01 00:00:08|         null|\n",
      "|                null| Logged In|  Valarie|     F|          206|    Moore|      null| paid|Los Angeles-Long ...|   GET|    Home|1537790336000|     2948|                null|   200|1538352008000|\"Mozilla/5.0 (Win...|1009070|2018-10-01 00:00:08|1.537790336E9|\n",
      "|          Dan Mangan| Logged In|    Hanna|     F|           15|   Peters| 293.85098| free|Boston-Cambridge-...|   PUT|NextSong|1534217490000|     7804|Some Place To Com...|   200|1538352010000|\"Mozilla/5.0 (Win...|1041334|2018-10-01 00:00:10| 1.53421749E9|\n",
      "+--------------------+----------+---------+------+-------------+---------+----------+-----+--------------------+------+--------+-------------+---------+--------------------+------+-------------+--------------------+-------+-------------------+-------------+\n",
      "only showing top 20 rows"
     ]
    }
   ],
   "source": [
    "from datetime import datetime\n",
    "from pyspark.sql.functions import udf\n",
    "    \n",
    "# Creemos la funcion para cambiar tiempo unix a tiempo humano\n",
    "unix_ts = udf(lambda x: datetime.fromtimestamp(x).strftime('%Y-%m-%d %H:%M:%S'))\n",
    "\n",
    "# Convertir la columna ts\n",
    "df = df.withColumn(\"ts_\", df.ts/1000)\n",
    "df = df.withColumn(\"ts_\", unix_ts(df.ts_))\n",
    "\n",
    "\n",
    "# Convertir la columna registration\n",
    "# Hay que arreglar los nulos\n",
    "df = df.withColumn(\"registration_\", df.registration/1000)\n",
    "#df = df.withColumn(\"registration_\", unix_ts(df.registration_))\n",
    "\n",
    "df.show()"
   ]
  },
  {
   "cell_type": "markdown",
   "metadata": {},
   "source": [
    "# Veamos el min y max de fechas"
   ]
  },
  {
   "cell_type": "code",
   "execution_count": 66,
   "metadata": {},
   "outputs": [
    {
     "data": {
      "application/vnd.jupyter.widget-view+json": {
       "model_id": "b9608ab0bba746b78f2fbf183b37e859",
       "version_major": 2,
       "version_minor": 0
      },
      "text/plain": [
       "VBox()"
      ]
     },
     "metadata": {},
     "output_type": "display_data"
    },
    {
     "data": {
      "application/vnd.jupyter.widget-view+json": {
       "model_id": "",
       "version_major": 2,
       "version_minor": 0
      },
      "text/plain": [
       "FloatProgress(value=0.0, bar_style='info', description='Progress:', layout=Layout(height='25px', width='50%'),…"
      ]
     },
     "metadata": {},
     "output_type": "display_data"
    },
    {
     "name": "stdout",
     "output_type": "stream",
     "text": [
      "Row(min(ts_)='2018-10-01 00:00:01', max(ts_)='2018-12-01 00:00:02')"
     ]
    }
   ],
   "source": [
    "df.select(min(\"ts_\"), max(\"ts_\")).first()"
   ]
  },
  {
   "cell_type": "code",
   "execution_count": 73,
   "metadata": {},
   "outputs": [
    {
     "data": {
      "application/vnd.jupyter.widget-view+json": {
       "model_id": "7aa611902fe645bf94378cb3be5dd704",
       "version_major": 2,
       "version_minor": 0
      },
      "text/plain": [
       "VBox()"
      ]
     },
     "metadata": {},
     "output_type": "display_data"
    },
    {
     "data": {
      "application/vnd.jupyter.widget-view+json": {
       "model_id": "",
       "version_major": 2,
       "version_minor": 0
      },
      "text/plain": [
       "FloatProgress(value=0.0, bar_style='info', description='Progress:', layout=Layout(height='25px', width='50%'),…"
      ]
     },
     "metadata": {},
     "output_type": "display_data"
    },
    {
     "name": "stderr",
     "output_type": "stream",
     "text": [
      "An error was encountered:\n",
      "unknown magic command 'local'\n",
      "UnknownMagic: unknown magic command 'local'\n",
      "\n"
     ]
    }
   ],
   "source": [
    "import matplotlib.pyplot as plt\n",
    "import seaborn as sns\n",
    "sns.set(style=\"darkgrid\")\n",
    "%local\n",
    "%matplotlib inline\n"
   ]
  },
  {
   "cell_type": "code",
   "execution_count": 72,
   "metadata": {},
   "outputs": [
    {
     "data": {
      "application/vnd.jupyter.widget-view+json": {
       "model_id": "a1ba969ff671400d99762792d47735cd",
       "version_major": 2,
       "version_minor": 0
      },
      "text/plain": [
       "VBox()"
      ]
     },
     "metadata": {},
     "output_type": "display_data"
    },
    {
     "data": {
      "application/vnd.jupyter.widget-view+json": {
       "model_id": "",
       "version_major": 2,
       "version_minor": 0
      },
      "text/plain": [
       "FloatProgress(value=0.0, bar_style='info', description='Progress:', layout=Layout(height='25px', width='50%'),…"
      ]
     },
     "metadata": {},
     "output_type": "display_data"
    },
    {
     "name": "stdout",
     "output_type": "stream",
     "text": [
      "Usuarios que cancelan:  5003\n",
      "Usuarios con downgrade:  15209"
     ]
    }
   ],
   "source": [
    "print('Usuarios que cancelan: ', df.select(\"userId\").where(df.page == \"Cancellation Confirmation\").dropDuplicates().count())\n",
    "print('Usuarios con downgrade: ', df.select(\"userId\").where(df.page == \"Downgrade\").dropDuplicates().count())"
   ]
  },
  {
   "cell_type": "code",
   "execution_count": 76,
   "metadata": {},
   "outputs": [
    {
     "data": {
      "application/vnd.jupyter.widget-view+json": {
       "model_id": "c2ba272f3b1541f5b601d9ec813869c3",
       "version_major": 2,
       "version_minor": 0
      },
      "text/plain": [
       "VBox()"
      ]
     },
     "metadata": {},
     "output_type": "display_data"
    },
    {
     "data": {
      "application/vnd.jupyter.widget-view+json": {
       "model_id": "",
       "version_major": 2,
       "version_minor": 0
      },
      "text/plain": [
       "FloatProgress(value=0.0, bar_style='info', description='Progress:', layout=Layout(height='25px', width='50%'),…"
      ]
     },
     "metadata": {},
     "output_type": "display_data"
    },
    {
     "data": {
      "image/png": "[encoded data removed]",
      "text/plain": [
       "<IPython.core.display.Image object>"
      ]
     },
     "metadata": {},
     "output_type": "display_data"
    }
   ],
   "source": [
    "eventos = df.groupby(\"page\").count()\n",
    "eventos = eventos.sort(desc(\"count\")).toPandas()\n",
    "g = sns.barplot(data=eventos, x='page', y='count')\n",
    "plt.xticks(rotation=90)\n",
    "# Tenemos que agregar esta ultima linea para ver las graficas en EMR\n",
    "%matplot plt"
   ]
  },
  {
   "cell_type": "code",
   "execution_count": 78,
   "metadata": {},
   "outputs": [
    {
     "data": {
      "application/vnd.jupyter.widget-view+json": {
       "model_id": "295d0c4dc84b440e8ba285ecd94773d0",
       "version_major": 2,
       "version_minor": 0
      },
      "text/plain": [
       "VBox()"
      ]
     },
     "metadata": {},
     "output_type": "display_data"
    },
    {
     "data": {
      "application/vnd.jupyter.widget-view+json": {
       "model_id": "",
       "version_major": 2,
       "version_minor": 0
      },
      "text/plain": [
       "FloatProgress(value=0.0, bar_style='info', description='Progress:', layout=Layout(height='25px', width='50%'),…"
      ]
     },
     "metadata": {},
     "output_type": "display_data"
    },
    {
     "name": "stdout",
     "output_type": "stream",
     "text": [
      "+--------------------+-----------+\n",
      "|                page|count(page)|\n",
      "+--------------------+-----------+\n",
      "|           Downgrade|     184240|\n",
      "|       Save Settings|      29516|\n",
      "|               Error|      25962|\n",
      "|     Add to Playlist|     597921|\n",
      "|                Help|     155100|\n",
      "|      Submit Upgrade|      15135|\n",
      "|              Cancel|       5003|\n",
      "|    Submit Downgrade|       6494|\n",
      "|         Thumbs Down|     239212|\n",
      "|                Home|    1343102|\n",
      "|         Roll Advert|     385212|\n",
      "|               About|      92759|\n",
      "|             Upgrade|      50507|\n",
      "|Cancellation Conf...|       5003|\n",
      "| Submit Registration|        401|\n",
      "|               Login|     296350|\n",
      "|            Register|        802|\n",
      "|            NextSong|   20850272|\n",
      "|           Thumbs Up|    1151465|\n",
      "|              Logout|     296005|\n",
      "+--------------------+-----------+\n",
      "only showing top 20 rows"
     ]
    }
   ],
   "source": [
    "df.select('page','userId').groupby('page').agg({'page':'count'}).select('page','count(page)').show()"
   ]
  },
  {
   "cell_type": "code",
   "execution_count": 79,
   "metadata": {},
   "outputs": [
    {
     "data": {
      "application/vnd.jupyter.widget-view+json": {
       "model_id": "d34b0b72c7ab4051ab3bcf45d1ca26ea",
       "version_major": 2,
       "version_minor": 0
      },
      "text/plain": [
       "VBox()"
      ]
     },
     "metadata": {},
     "output_type": "display_data"
    },
    {
     "data": {
      "application/vnd.jupyter.widget-view+json": {
       "model_id": "",
       "version_major": 2,
       "version_minor": 0
      },
      "text/plain": [
       "FloatProgress(value=0.0, bar_style='info', description='Progress:', layout=Layout(height='25px', width='50%'),…"
      ]
     },
     "metadata": {},
     "output_type": "display_data"
    },
    {
     "name": "stdout",
     "output_type": "stream",
     "text": [
      "+--------------------+----------+---------+------+-------------+---------+----------+-----+--------------------+------+--------+-------------+---------+--------------------+------+-------------+--------------------+-------+-------------------+-------------+-----+\n",
      "|              artist|      auth|firstName|gender|itemInSession| lastName|    length|level|            location|method|    page| registration|sessionId|                song|status|           ts|           userAgent| userId|                ts_|registration_|churn|\n",
      "+--------------------+----------+---------+------+-------------+---------+----------+-----+--------------------+------+--------+-------------+---------+--------------------+------+-------------+--------------------+-------+-------------------+-------------+-----+\n",
      "|           Popol Vuh| Logged In|    Shlok|     M|          278|  Johnson| 524.32934| paid|Dallas-Fort Worth...|   PUT|NextSong|1533734541000|    22683|Ich mache einen S...|   200|1538352001000|\"Mozilla/5.0 (Win...|1749042|2018-10-01 00:00:01|1.533734541E9|    0|\n",
      "|         Los Bunkers| Logged In|  Vianney|     F|            9|   Miller| 238.39302| paid|San Francisco-Oak...|   PUT|NextSong|1537500318000|    20836|         MiÃÂ©ntele|   200|1538352002000|\"Mozilla/5.0 (Mac...|1563081|2018-10-01 00:00:02|1.537500318E9|    0|\n",
      "|                Lush| Logged In|     Vina|     F|          109|   Bailey| 140.35546| paid|            Hilo, HI|   PUT|NextSong|1536414505000|     4593|           Baby Talk|   200|1538352002000|Mozilla/5.0 (Maci...|1697168|2018-10-01 00:00:02|1.536414505E9|    0|\n",
      "|Barry Tuckwell/Ac...| Logged In|   Andres|     M|           71|    Foley| 277.15873| paid|       Watertown, SD|   PUT|NextSong|1534386660000|     6370|Horn Concerto No....|   200|1538352003000|\"Mozilla/5.0 (Mac...|1222580|2018-10-01 00:00:03| 1.53438666E9|    0|\n",
      "|                 Yes| Logged In|  Aaliyah|     F|           21|  Ramirez|1121.25342| paid|Baltimore-Columbi...|   PUT|NextSong|1537381415000|    22316|Close To The Edge...|   200|1538352003000|\"Mozilla/5.0 (Win...|1714398|2018-10-01 00:00:03|1.537381415E9|    0|\n",
      "|                MGMT| Logged In|     Ryan|     M|            8| Williams| 229.25016| paid|Cape Coral-Fort M...|   PUT|NextSong|1537602560000|    23924|       Electric Feel|   200|1538352004000|\"Mozilla/5.0 (Win...|1010522|2018-10-01 00:00:04| 1.53760256E9|    0|\n",
      "|   Animal Collective| Logged In|    Isaac|     M|            6|    Brown|  313.5473| free|          Kokomo, IN|   PUT|NextSong|1536563853000|     1746|              Bluish|   200|1538352005000|Mozilla/5.0 (Wind...|1475659|2018-10-01 00:00:05|1.536563853E9|    0|\n",
      "|              Eminem| Logged In| Jonathan|     M|           29|   Martin|  250.8273| free|New York-Newark-J...|   PUT|NextSong|1538069376000|    22483|         Mockingbird|   200|1538352006000|\"Mozilla/5.0 (Win...|1465194|2018-10-01 00:00:06|1.538069376E9|    0|\n",
      "|         Leona Lewis| Logged In| Jennifer|     F|            0|  Shelton| 203.88526| free|      Pittsburgh, PA|   PUT|NextSong|1536455539000|    25128|          Forgive Me|   200|1538352006000|\"Mozilla/5.0 (Win...|1558463|2018-10-01 00:00:06|1.536455539E9|    0|\n",
      "|     The Cranberries| Logged In|  Michael|     M|           13|    Riley| 183.87546| paid|Albany-Schenectad...|   PUT|NextSong|1533220062000|     3992|         The Concept|   200|1538352006000|\"Mozilla/5.0 (Win...|1605667|2018-10-01 00:00:06|1.533220062E9|    0|\n",
      "|        Mariah Carey| Logged In|    Azari|     M|           37|   Hansen|  265.9522| free|    Martinsville, VA|   PUT|NextSong|1534393835000|    14642|Anytime You Need ...|   200|1538352006000|\"Mozilla/5.0 (X11...|1385500|2018-10-01 00:00:06|1.534393835E9|    0|\n",
      "|Johnny Cash with ...| Logged In|    Riley|     F|          300|Hernandez| 199.81016| paid|         Reading, PA|   PUT|NextSong|1537618545000|    14853|   Nine Pound Hammer|   200|1538352006000|\"Mozilla/5.0 (Mac...|1032628|2018-10-01 00:00:06|1.537618545E9|    0|\n",
      "|            Gorillaz| Logged In|    Brian|     M|           73|    Allen| 131.91791| free|San Diego-Carlsba...|   PUT|NextSong|1537868758000|     2526|Don't Get Lost In...|   200|1538352007000|\"Mozilla/5.0 (Mac...|1901081|2018-10-01 00:00:07|1.537868758E9|    0|\n",
      "|     Los Prisioneros| Logged In|  Brayden|     M|           95|Armstrong| 248.78975| paid|Dallas-Fort Worth...|   PUT|NextSong|1534635513000|    23917|   La Voz De Los '80|   200|1538352007000|\"Mozilla/5.0 (Win...|1611729|2018-10-01 00:00:07|1.534635513E9|    0|\n",
      "|   The White Stripes| Logged In|   Brooke|     F|            6|    Kirby| 126.40608| paid|Los Angeles-Long ...|   PUT|NextSong|1531817572000|    14085|          Good To Me|   200|1538352008000|\"Mozilla/5.0 (Win...|1497881|2018-10-01 00:00:08|1.531817572E9|    0|\n",
      "|   Brigitte Fontaine| Logged In|  Caitlin|     F|          117|  Barnett| 355.57832| free|Philadelphia-Camd...|   PUT|NextSong|1528964849000|     2303|Ah Que La Vie Est...|   200|1538352008000|\"Mozilla/5.0 (Mac...|1413952|2018-10-01 00:00:08|1.528964849E9|    0|\n",
      "|      Alien Ant Farm| Logged In|   Aminah|     F|            8|    Payne|  204.7473| free|Virginia Beach-No...|   PUT|NextSong|1536761240000|    19434|                Wish|   200|1538352008000|Mozilla/5.0 (X11;...|1585800|2018-10-01 00:00:08| 1.53676124E9|    0|\n",
      "|                null|Logged Out|     null|  null|           87|     null|      null| paid|                null|   GET|    Home|         null|     8615|                null|   200|1538352008000|                null|1261737|2018-10-01 00:00:08|         null|    0|\n",
      "|                null| Logged In|  Valarie|     F|          206|    Moore|      null| paid|Los Angeles-Long ...|   GET|    Home|1537790336000|     2948|                null|   200|1538352008000|\"Mozilla/5.0 (Win...|1009070|2018-10-01 00:00:08|1.537790336E9|    0|\n",
      "|          Dan Mangan| Logged In|    Hanna|     F|           15|   Peters| 293.85098| free|Boston-Cambridge-...|   PUT|NextSong|1534217490000|     7804|Some Place To Com...|   200|1538352010000|\"Mozilla/5.0 (Win...|1041334|2018-10-01 00:00:10| 1.53421749E9|    0|\n",
      "+--------------------+----------+---------+------+-------------+---------+----------+-----+--------------------+------+--------+-------------+---------+--------------------+------+-------------+--------------------+-------+-------------------+-------------+-----+\n",
      "only showing top 20 rows"
     ]
    }
   ],
   "source": [
    "from pyspark.sql.types import IntegerType\n",
    "# Usuarios que cancelaron su suscripcion. Ahora el segundo argumento de udf\n",
    "# castea al tipo de dato que especifiquemos. En este caso int.\n",
    "churn_find = udf(lambda x: 1 if x == \"Cancellation Confirmation\" else 0, IntegerType())\n",
    "df = df.withColumn(\"churn\", churn_find(\"page\"))\n",
    "df.show()"
   ]
  },
  {
   "cell_type": "code",
   "execution_count": 80,
   "metadata": {},
   "outputs": [
    {
     "data": {
      "application/vnd.jupyter.widget-view+json": {
       "model_id": "9d63345f54b54edf9f0f798c17aa8c18",
       "version_major": 2,
       "version_minor": 0
      },
      "text/plain": [
       "VBox()"
      ]
     },
     "metadata": {},
     "output_type": "display_data"
    },
    {
     "data": {
      "application/vnd.jupyter.widget-view+json": {
       "model_id": "",
       "version_major": 2,
       "version_minor": 0
      },
      "text/plain": [
       "FloatProgress(value=0.0, bar_style='info', description='Progress:', layout=Layout(height='25px', width='50%'),…"
      ]
     },
     "metadata": {},
     "output_type": "display_data"
    },
    {
     "name": "stdout",
     "output_type": "stream",
     "text": [
      "  gender  count  sum(churn)  churn_gender_per\n",
      "0      M  11651        2656          0.227963\n",
      "1      F  10626        2347          0.220873"
     ]
    }
   ],
   "source": [
    "gender = df.select('userId', 'gender').dropDuplicates().groupby(['gender']\n",
    "                                                      ).count().toPandas()\n",
    "\n",
    "churn_genero = df.where(df.churn == 1).dropDuplicates()\n",
    "churn_genero = churn_genero.groupby([\"gender\"]).agg(sum('churn')).toPandas()\n",
    "\n",
    "churn_genero = gender.merge(churn_genero, on = 'gender')\n",
    "churn_genero['churn_gender_per'] = churn_genero['sum(churn)']/churn_genero['count']\n",
    "churn_genero"
   ]
  },
  {
   "cell_type": "code",
   "execution_count": 81,
   "metadata": {},
   "outputs": [
    {
     "data": {
      "application/vnd.jupyter.widget-view+json": {
       "model_id": "98ed398e00514c95b443e79641ab85db",
       "version_major": 2,
       "version_minor": 0
      },
      "text/plain": [
       "VBox()"
      ]
     },
     "metadata": {},
     "output_type": "display_data"
    },
    {
     "data": {
      "application/vnd.jupyter.widget-view+json": {
       "model_id": "",
       "version_major": 2,
       "version_minor": 0
      },
      "text/plain": [
       "FloatProgress(value=0.0, bar_style='info', description='Progress:', layout=Layout(height='25px', width='50%'),…"
      ]
     },
     "metadata": {},
     "output_type": "display_data"
    },
    {
     "data": {
      "image/png": "[encoded data removed]",
      "text/plain": [
       "<IPython.core.display.Image object>"
      ]
     },
     "metadata": {},
     "output_type": "display_data"
    }
   ],
   "source": [
    "level_churn = df.where(df.churn==1).select('userId','level','churn').groupby('level','churn').count(\n",
    "    ).toPandas().sort_values(by='count')\n",
    "print(level_churn)\n",
    "fig = plt.figure(figsize=(8,8))\n",
    "ax = fig.gca()\n",
    "level_churn.pivot(index='churn', columns='level', values='count').plot(kind='bar', ax=ax)\n",
    "%matplot plt"
   ]
  },
  {
   "cell_type": "code",
   "execution_count": 82,
   "metadata": {},
   "outputs": [
    {
     "data": {
      "application/vnd.jupyter.widget-view+json": {
       "model_id": "da3f74dde6cf4dae8c1b7d919348c03d",
       "version_major": 2,
       "version_minor": 0
      },
      "text/plain": [
       "VBox()"
      ]
     },
     "metadata": {},
     "output_type": "display_data"
    },
    {
     "data": {
      "application/vnd.jupyter.widget-view+json": {
       "model_id": "",
       "version_major": 2,
       "version_minor": 0
      },
      "text/plain": [
       "FloatProgress(value=0.0, bar_style='info', description='Progress:', layout=Layout(height='25px', width='50%'),…"
      ]
     },
     "metadata": {},
     "output_type": "display_data"
    }
   ],
   "source": [
    "fe_df = df.select('userId').dropDuplicates()"
   ]
  },
  {
   "cell_type": "code",
   "execution_count": 83,
   "metadata": {},
   "outputs": [
    {
     "data": {
      "application/vnd.jupyter.widget-view+json": {
       "model_id": "cf248bec1dc84de9872a4f3bd7b29813",
       "version_major": 2,
       "version_minor": 0
      },
      "text/plain": [
       "VBox()"
      ]
     },
     "metadata": {},
     "output_type": "display_data"
    },
    {
     "data": {
      "application/vnd.jupyter.widget-view+json": {
       "model_id": "",
       "version_major": 2,
       "version_minor": 0
      },
      "text/plain": [
       "FloatProgress(value=0.0, bar_style='info', description='Progress:', layout=Layout(height='25px', width='50%'),…"
      ]
     },
     "metadata": {},
     "output_type": "display_data"
    }
   ],
   "source": [
    "def page_2_var(df, page_cat):\n",
    "    var_name = (page_cat + '_').lower()\n",
    "    output = df.filter(df.page == page_cat).groupby('userId') \\\n",
    "                .agg(count('page')).withColumnRenamed('count(page)', var_name)\n",
    "    # Asegurarnos que la columna que regrese sea numerica\n",
    "    # Esto nas ayudara mas tarde cuando remplacemos los nulls con cero\n",
    "    output = output.withColumn(var_name,col(var_name).cast(IntegerType()))\n",
    "    return output\n"
   ]
  },
  {
   "cell_type": "code",
   "execution_count": 84,
   "metadata": {},
   "outputs": [
    {
     "data": {
      "application/vnd.jupyter.widget-view+json": {
       "model_id": "072f4dc6a48f48aca703a8a03b725566",
       "version_major": 2,
       "version_minor": 0
      },
      "text/plain": [
       "VBox()"
      ]
     },
     "metadata": {},
     "output_type": "display_data"
    },
    {
     "data": {
      "application/vnd.jupyter.widget-view+json": {
       "model_id": "",
       "version_major": 2,
       "version_minor": 0
      },
      "text/plain": [
       "FloatProgress(value=0.0, bar_style='info', description='Progress:', layout=Layout(height='25px', width='50%'),…"
      ]
     },
     "metadata": {},
     "output_type": "display_data"
    },
    {
     "name": "stdout",
     "output_type": "stream",
     "text": [
      "['Downgrade', 'Save Settings', 'Error', 'Add to Playlist', 'Help', 'Submit Upgrade', 'Cancel', 'Submit Downgrade', 'Thumbs Down', 'Home', 'Roll Advert', 'About', 'Upgrade', 'Cancellation Confirmation', 'Submit Registration', 'Login', 'Register', 'NextSong', 'Thumbs Up', 'Logout', 'Settings', 'Add Friend']"
     ]
    }
   ],
   "source": [
    "# Obetener valore sunicos de page en formad de lista\n",
    "page_values = [cc for c in df.select('page').dropDuplicates().collect() for cc in c]\n",
    "print(page_values)\n",
    "# Seleccionemos las varaibles que nos gustaria usar, recuerda que por ahora\n",
    "# que tenemos un subset de datos\n",
    "\n",
    "page_fe = ['Add Friend', 'Add to Playlist', 'Thumbs Down',\n",
    "                           'Thumbs Up', 'Error', 'Settings', 'Upgrade',\n",
    "           'Help', 'Next Song']"
   ]
  },
  {
   "cell_type": "code",
   "execution_count": 85,
   "metadata": {},
   "outputs": [
    {
     "data": {
      "application/vnd.jupyter.widget-view+json": {
       "model_id": "a4205695f33e4dd3b722b0e4a41aa011",
       "version_major": 2,
       "version_minor": 0
      },
      "text/plain": [
       "VBox()"
      ]
     },
     "metadata": {},
     "output_type": "display_data"
    },
    {
     "data": {
      "application/vnd.jupyter.widget-view+json": {
       "model_id": "",
       "version_major": 2,
       "version_minor": 0
      },
      "text/plain": [
       "FloatProgress(value=0.0, bar_style='info', description='Progress:', layout=Layout(height='25px', width='50%'),…"
      ]
     },
     "metadata": {},
     "output_type": "display_data"
    },
    {
     "name": "stdout",
     "output_type": "stream",
     "text": [
      "+-------+-----------+----------------+------------+----------+------+---------+--------+-----+----------+\n",
      "| userId|add friend_|add to playlist_|thumbs down_|thumbs up_|error_|settings_|upgrade_|help_|next song_|\n",
      "+-------+-----------+----------------+------------+----------+------+---------+--------+-----+----------+\n",
      "|1001393|         11|              18|           6|        43|     1|        8|       1|    6|         0|\n",
      "|1002143|         14|              10|           5|        24|     0|        4|       3|    4|         0|\n",
      "|1002493|          6|              12|           8|        16|     0|        3|       1|    5|         0|\n",
      "|1002749|         27|              35|          18|        59|     0|        4|       1|    3|         0|\n",
      "|1004060|         54|              75|          30|       119|     3|       22|       3|   22|         0|\n",
      "|1004316|         18|              29|          11|        40|     2|        6|       4|    7|         0|\n",
      "|1006033|         19|              20|           7|        34|     1|        2|       0|    4|         0|\n",
      "|1006411|         15|              24|           6|        23|     0|        4|       3|    7|         0|\n",
      "|1006697|         14|              37|           8|       102|     3|        9|       2|    7|         0|\n",
      "|1008244|          4|              13|           1|        13|     2|        3|       0|    1|         0|\n",
      "|1008404|         88|             152|          37|       249|     5|       27|       5|   27|         0|\n",
      "|1010669|         77|              69|          23|       139|     2|       17|       2|   14|         0|\n",
      "|1010907|         17|              18|           7|        32|     0|        6|       4|    5|         0|\n",
      "|1011093|         15|              37|          12|        62|     2|       10|       3|    6|         0|\n",
      "|1011149|         23|              18|           9|        27|     0|        6|       0|    4|         0|\n",
      "|1011630|          0|               3|           0|         4|     0|        1|       2|    2|         0|\n",
      "|1012906|          5|               4|           4|         4|     0|        1|       0|    1|         0|\n",
      "|1013788|          2|              12|           4|        47|     1|        2|       0|    1|         0|\n",
      "|1017431|          1|               0|           2|         2|     0|        0|       1|    0|         0|\n",
      "|1018499|         31|              22|          18|        46|     3|        6|       0|    6|         0|\n",
      "+-------+-----------+----------------+------------+----------+------+---------+--------+-----+----------+\n",
      "only showing top 20 rows"
     ]
    }
   ],
   "source": [
    "for f in page_fe:\n",
    "    output = page_2_var(df, f)\n",
    "    fe_df = fe_df.join(output, 'userId', 'outer')\n",
    "\n",
    "fe_df = fe_df.na.fill(value=0)\n",
    "fe_df.show()"
   ]
  },
  {
   "cell_type": "code",
   "execution_count": 86,
   "metadata": {},
   "outputs": [
    {
     "data": {
      "application/vnd.jupyter.widget-view+json": {
       "model_id": "ee824eb4218d4890ab0e3e79df7cb330",
       "version_major": 2,
       "version_minor": 0
      },
      "text/plain": [
       "VBox()"
      ]
     },
     "metadata": {},
     "output_type": "display_data"
    },
    {
     "data": {
      "application/vnd.jupyter.widget-view+json": {
       "model_id": "",
       "version_major": 2,
       "version_minor": 0
      },
      "text/plain": [
       "FloatProgress(value=0.0, bar_style='info', description='Progress:', layout=Layout(height='25px', width='50%'),…"
      ]
     },
     "metadata": {},
     "output_type": "display_data"
    },
    {
     "name": "stdout",
     "output_type": "stream",
     "text": [
      "+-------+-----------+----------------+------------+----------+------+---------+--------+-----+----------+----------------+\n",
      "| userId|add friend_|add to playlist_|thumbs down_|thumbs up_|error_|settings_|upgrade_|help_|next song_|acciones_totales|\n",
      "+-------+-----------+----------------+------------+----------+------+---------+--------+-----+----------+----------------+\n",
      "|1001393|         11|              18|           6|        43|     1|        8|       1|    6|         0|              94|\n",
      "|1002143|         14|              10|           5|        24|     0|        4|       3|    4|         0|              64|\n",
      "|1002493|          6|              12|           8|        16|     0|        3|       1|    5|         0|              51|\n",
      "|1002749|         27|              35|          18|        59|     0|        4|       1|    3|         0|             147|\n",
      "|1004060|         54|              75|          30|       119|     3|       22|       3|   22|         0|             328|\n",
      "|1004316|         18|              29|          11|        40|     2|        6|       4|    7|         0|             117|\n",
      "|1006033|         19|              20|           7|        34|     1|        2|       0|    4|         0|              87|\n",
      "|1006411|         15|              24|           6|        23|     0|        4|       3|    7|         0|              82|\n",
      "|1006697|         14|              37|           8|       102|     3|        9|       2|    7|         0|             182|\n",
      "|1008244|          4|              13|           1|        13|     2|        3|       0|    1|         0|              37|\n",
      "|1008404|         88|             152|          37|       249|     5|       27|       5|   27|         0|             590|\n",
      "|1010669|         77|              69|          23|       139|     2|       17|       2|   14|         0|             343|\n",
      "|1010907|         17|              18|           7|        32|     0|        6|       4|    5|         0|              89|\n",
      "|1011093|         15|              37|          12|        62|     2|       10|       3|    6|         0|             147|\n",
      "|1011149|         23|              18|           9|        27|     0|        6|       0|    4|         0|              87|\n",
      "|1011630|          0|               3|           0|         4|     0|        1|       2|    2|         0|              12|\n",
      "|1012906|          5|               4|           4|         4|     0|        1|       0|    1|         0|              19|\n",
      "|1013788|          2|              12|           4|        47|     1|        2|       0|    1|         0|              69|\n",
      "|1017431|          1|               0|           2|         2|     0|        0|       1|    0|         0|               6|\n",
      "|1018499|         31|              22|          18|        46|     3|        6|       0|    6|         0|             132|\n",
      "+-------+-----------+----------------+------------+----------+------+---------+--------+-----+----------+----------------+\n",
      "only showing top 20 rows"
     ]
    }
   ],
   "source": [
    "from operator import add\n",
    "from functools import reduce\n",
    "# Iteremos solo sobre las variables que definimos arriba\n",
    "page_cols_ = [(c + '_').lower() for c in page_fe if c!='userId']\n",
    "fe_df = fe_df.withColumn('acciones_totales', reduce(add, [fe_df[col] \n",
    "                                                for col in page_cols_]))\n",
    "\n",
    "fe_df.show()"
   ]
  },
  {
   "cell_type": "code",
   "execution_count": 87,
   "metadata": {},
   "outputs": [
    {
     "data": {
      "application/vnd.jupyter.widget-view+json": {
       "model_id": "1356b1b1b01845acbfa2003ae42aa5ff",
       "version_major": 2,
       "version_minor": 0
      },
      "text/plain": [
       "VBox()"
      ]
     },
     "metadata": {},
     "output_type": "display_data"
    },
    {
     "data": {
      "application/vnd.jupyter.widget-view+json": {
       "model_id": "",
       "version_major": 2,
       "version_minor": 0
      },
      "text/plain": [
       "FloatProgress(value=0.0, bar_style='info', description='Progress:', layout=Layout(height='25px', width='50%'),…"
      ]
     },
     "metadata": {},
     "output_type": "display_data"
    },
    {
     "name": "stdout",
     "output_type": "stream",
     "text": [
      "+-------+-----------+----------------+------------+----------+------+---------+--------+-----+----------+----------------+-------+\n",
      "| userId|add friend_|add to playlist_|thumbs down_|thumbs up_|error_|settings_|upgrade_|help_|next song_|acciones_totales|gender_|\n",
      "+-------+-----------+----------------+------------+----------+------+---------+--------+-----+----------+----------------+-------+\n",
      "|1001393|         11|              18|           6|        43|     1|        8|       1|    6|         0|              94|      0|\n",
      "|1002143|         14|              10|           5|        24|     0|        4|       3|    4|         0|              64|      0|\n",
      "|1002493|          6|              12|           8|        16|     0|        3|       1|    5|         0|              51|      0|\n",
      "|1002749|         27|              35|          18|        59|     0|        4|       1|    3|         0|             147|      0|\n",
      "|1004060|         54|              75|          30|       119|     3|       22|       3|   22|         0|             328|      0|\n",
      "|1004316|         18|              29|          11|        40|     2|        6|       4|    7|         0|             117|      0|\n",
      "|1006033|         19|              20|           7|        34|     1|        2|       0|    4|         0|              87|      1|\n",
      "|1006411|         15|              24|           6|        23|     0|        4|       3|    7|         0|              82|      0|\n",
      "|1006697|         14|              37|           8|       102|     3|        9|       2|    7|         0|             182|      0|\n",
      "|1008244|          4|              13|           1|        13|     2|        3|       0|    1|         0|              37|      1|\n",
      "|1008404|         88|             152|          37|       249|     5|       27|       5|   27|         0|             590|      1|\n",
      "|1010669|         77|              69|          23|       139|     2|       17|       2|   14|         0|             343|      0|\n",
      "|1010907|         17|              18|           7|        32|     0|        6|       4|    5|         0|              89|      1|\n",
      "|1011093|         15|              37|          12|        62|     2|       10|       3|    6|         0|             147|      1|\n",
      "|1011149|         23|              18|           9|        27|     0|        6|       0|    4|         0|              87|      0|\n",
      "|1011630|          0|               3|           0|         4|     0|        1|       2|    2|         0|              12|      0|\n",
      "|1012906|          5|               4|           4|         4|     0|        1|       0|    1|         0|              19|      1|\n",
      "|1013788|          2|              12|           4|        47|     1|        2|       0|    1|         0|              69|      0|\n",
      "|1017431|          1|               0|           2|         2|     0|        0|       1|    0|         0|               6|      1|\n",
      "|1018499|         31|              22|          18|        46|     3|        6|       0|    6|         0|             132|      0|\n",
      "+-------+-----------+----------------+------------+----------+------+---------+--------+-----+----------+----------------+-------+\n",
      "only showing top 20 rows"
     ]
    }
   ],
   "source": [
    "# Agregar genero 1 si es mujer, 0 si es hombre\n",
    "gender_fe = udf(lambda x: 1 if x == 'F' else 0, IntegerType())\n",
    "df = df.withColumn('gender_', gender_fe(df.gender))\n",
    "gender_df = df.select('userId','gender_').dropDuplicates()\n",
    "fe_df = fe_df.join(gender_df, 'userId', 'outer')\n",
    "fe_df.show()"
   ]
  },
  {
   "cell_type": "code",
   "execution_count": 88,
   "metadata": {},
   "outputs": [
    {
     "data": {
      "application/vnd.jupyter.widget-view+json": {
       "model_id": "0b6a3bc305a0432dbb6de02b62b2ddc6",
       "version_major": 2,
       "version_minor": 0
      },
      "text/plain": [
       "VBox()"
      ]
     },
     "metadata": {},
     "output_type": "display_data"
    },
    {
     "data": {
      "application/vnd.jupyter.widget-view+json": {
       "model_id": "",
       "version_major": 2,
       "version_minor": 0
      },
      "text/plain": [
       "FloatProgress(value=0.0, bar_style='info', description='Progress:', layout=Layout(height='25px', width='50%'),…"
      ]
     },
     "metadata": {},
     "output_type": "display_data"
    },
    {
     "name": "stdout",
     "output_type": "stream",
     "text": [
      "+-------+-----------+----------------+------------+----------+------+---------+--------+-----+----------+----------------+-------+-----+\n",
      "| userId|add friend_|add to playlist_|thumbs down_|thumbs up_|error_|settings_|upgrade_|help_|next song_|acciones_totales|gender_|churn|\n",
      "+-------+-----------+----------------+------------+----------+------+---------+--------+-----+----------+----------------+-------+-----+\n",
      "|1001393|         11|              18|           6|        43|     1|        8|       1|    6|         0|              94|      0|    0|\n",
      "|1002143|         14|              10|           5|        24|     0|        4|       3|    4|         0|              64|      0|    0|\n",
      "|1002493|          6|              12|           8|        16|     0|        3|       1|    5|         0|              51|      0|    1|\n",
      "|1002749|         27|              35|          18|        59|     0|        4|       1|    3|         0|             147|      0|    0|\n",
      "|1004060|         54|              75|          30|       119|     3|       22|       3|   22|         0|             328|      0|    0|\n",
      "|1004316|         18|              29|          11|        40|     2|        6|       4|    7|         0|             117|      0|    0|\n",
      "|1006033|         19|              20|           7|        34|     1|        2|       0|    4|         0|              87|      1|    0|\n",
      "|1006411|         15|              24|           6|        23|     0|        4|       3|    7|         0|              82|      0|    0|\n",
      "|1006697|         14|              37|           8|       102|     3|        9|       2|    7|         0|             182|      0|    0|\n",
      "|1008244|          4|              13|           1|        13|     2|        3|       0|    1|         0|              37|      1|    1|\n",
      "|1008404|         88|             152|          37|       249|     5|       27|       5|   27|         0|             590|      1|    1|\n",
      "|1010669|         77|              69|          23|       139|     2|       17|       2|   14|         0|             343|      0|    0|\n",
      "|1010907|         17|              18|           7|        32|     0|        6|       4|    5|         0|              89|      1|    0|\n",
      "|1011093|         15|              37|          12|        62|     2|       10|       3|    6|         0|             147|      1|    0|\n",
      "|1011149|         23|              18|           9|        27|     0|        6|       0|    4|         0|              87|      0|    0|\n",
      "|1011630|          0|               3|           0|         4|     0|        1|       2|    2|         0|              12|      0|    0|\n",
      "|1012906|          5|               4|           4|         4|     0|        1|       0|    1|         0|              19|      1|    1|\n",
      "|1013788|          2|              12|           4|        47|     1|        2|       0|    1|         0|              69|      0|    0|\n",
      "|1017431|          1|               0|           2|         2|     0|        0|       1|    0|         0|               6|      1|    0|\n",
      "|1018499|         31|              22|          18|        46|     3|        6|       0|    6|         0|             132|      0|    0|\n",
      "+-------+-----------+----------------+------------+----------+------+---------+--------+-----+----------+----------------+-------+-----+\n",
      "only showing top 20 rows"
     ]
    }
   ],
   "source": [
    "# Obtengamos los usuarios que cancelaron su suscripcion\n",
    "churn_df = df.select('userId', 'churn').where(df.churn==1)\n",
    "\n",
    "# Unamoslo con nuestros datos. Aquellos que tengan valor de null\n",
    "# En la columna de churn no cancelaron.\n",
    "fe_df = fe_df.join(churn_df, 'userId', 'outer').na.fill(value=0)\n",
    "fe_df.show()"
   ]
  },
  {
   "cell_type": "code",
   "execution_count": 92,
   "metadata": {},
   "outputs": [
    {
     "data": {
      "application/vnd.jupyter.widget-view+json": {
       "model_id": "5f3b7298dfe545059b1ba540f6cda3fd",
       "version_major": 2,
       "version_minor": 0
      },
      "text/plain": [
       "VBox()"
      ]
     },
     "metadata": {},
     "output_type": "display_data"
    },
    {
     "data": {
      "application/vnd.jupyter.widget-view+json": {
       "model_id": "",
       "version_major": 2,
       "version_minor": 0
      },
      "text/plain": [
       "FloatProgress(value=0.0, bar_style='info', description='Progress:', layout=Layout(height='25px', width='50%'),…"
      ]
     },
     "metadata": {},
     "output_type": "display_data"
    },
    {
     "name": "stderr",
     "output_type": "stream",
     "text": [
      "An error was encountered:\n",
      "name 'pandas' is not defined\n",
      "Traceback (most recent call last):\n",
      "NameError: name 'pandas' is not defined\n",
      "\n"
     ]
    }
   ],
   "source": [
    "from pyspark.ml.stat import Correlation\n",
    "from pyspark.ml.feature import VectorAssembler\n",
    "\n",
    "# convert to vector column first\n",
    "vector_col = \"corr_features\"\n",
    "cor_columns = [c for c in fe_df.columns if c!='userId']\n",
    "assembler = VectorAssembler(inputCols=cor_columns, outputCol=vector_col)\n",
    "df_vector = assembler.transform(fe_df).select(vector_col)\n",
    "\n",
    "# Matriz de Correlaciones\n",
    "matrix = Correlation.corr(df_vector, vector_col)\n",
    "\n",
    "# Matriz de correlaciones a numpy para visualizarla\n",
    "import numpy as np \n",
    "cor = matrix.collect()[0][\"pearson({})\".format(vector_col)].values\n",
    "cor_df = cor.reshape((len(cor_columns),len(cor_columns)))\n",
    "\n",
    "# A pandas para hacerla legible\n",
    "pd.set_option('display.max_rows', 15)\n",
    "cor_df = pd.DataFrame(cor_df, columns=cor_columns)\n",
    "cor_df['var'] = cor_columns\n",
    "cor_df.set_index('var')"
   ]
  },
  {
   "cell_type": "code",
   "execution_count": 90,
   "metadata": {},
   "outputs": [
    {
     "data": {
      "application/vnd.jupyter.widget-view+json": {
       "model_id": "27140b2779334f1b9e867334a14fa20c",
       "version_major": 2,
       "version_minor": 0
      },
      "text/plain": [
       "VBox()"
      ]
     },
     "metadata": {},
     "output_type": "display_data"
    },
    {
     "data": {
      "application/vnd.jupyter.widget-view+json": {
       "model_id": "",
       "version_major": 2,
       "version_minor": 0
      },
      "text/plain": [
       "FloatProgress(value=0.0, bar_style='info', description='Progress:', layout=Layout(height='25px', width='50%'),…"
      ]
     },
     "metadata": {},
     "output_type": "display_data"
    }
   ],
   "source": [
    "# Importemos lo que usaremos en esta seccion\n",
    "from pyspark.ml import Pipeline\n",
    "from pyspark.ml.classification import RandomForestClassifier, LogisticRegression\n",
    "from pyspark.ml.evaluation import MulticlassClassificationEvaluator\n",
    "from pyspark.ml.feature import VectorAssembler, StandardScaler\n",
    "from pyspark.ml.tuning import CrossValidator, ParamGridBuilder\n",
    "from pyspark.mllib.evaluation import MulticlassMetrics"
   ]
  },
  {
   "cell_type": "code",
   "execution_count": 91,
   "metadata": {},
   "outputs": [
    {
     "data": {
      "application/vnd.jupyter.widget-view+json": {
       "model_id": "2777f099faf6445ca55e3df8dce1d17c",
       "version_major": 2,
       "version_minor": 0
      },
      "text/plain": [
       "VBox()"
      ]
     },
     "metadata": {},
     "output_type": "display_data"
    },
    {
     "data": {
      "application/vnd.jupyter.widget-view+json": {
       "model_id": "",
       "version_major": 2,
       "version_minor": 0
      },
      "text/plain": [
       "FloatProgress(value=0.0, bar_style='info', description='Progress:', layout=Layout(height='25px', width='50%'),…"
      ]
     },
     "metadata": {},
     "output_type": "display_data"
    },
    {
     "name": "stdout",
     "output_type": "stream",
     "text": [
      "['add friend_', 'add to playlist_', 'thumbs down_', 'thumbs up_', 'error_', 'settings_', 'upgrade_', 'help_', 'next song_', 'acciones_totales', 'gender_']\n",
      "+-------+-----------+----------------+------------+----------+------+---------+--------+-----+----------+----------------+-------+-----+--------------------+\n",
      "| userId|add friend_|add to playlist_|thumbs down_|thumbs up_|error_|settings_|upgrade_|help_|next song_|acciones_totales|gender_|churn|        all_features|\n",
      "+-------+-----------+----------------+------------+----------+------+---------+--------+-----+----------+----------------+-------+-----+--------------------+\n",
      "|1001393|         11|              18|           6|        43|     1|        8|       1|    6|         0|              94|      0|    0|[11.0,18.0,6.0,43...|\n",
      "|1002143|         14|              10|           5|        24|     0|        4|       3|    4|         0|              64|      0|    0|[14.0,10.0,5.0,24...|\n",
      "|1002493|          6|              12|           8|        16|     0|        3|       1|    5|         0|              51|      0|    1|[6.0,12.0,8.0,16....|\n",
      "|1002749|         27|              35|          18|        59|     0|        4|       1|    3|         0|             147|      0|    0|[27.0,35.0,18.0,5...|\n",
      "|1004060|         54|              75|          30|       119|     3|       22|       3|   22|         0|             328|      0|    0|[54.0,75.0,30.0,1...|\n",
      "+-------+-----------+----------------+------------+----------+------+---------+--------+-----+----------+----------------+-------+-----+--------------------+\n",
      "only showing top 5 rows"
     ]
    }
   ],
   "source": [
    "# Seleccionemos las variables que utilizaremos\n",
    "variables = [v for v in fe_df.columns if (v !='userId') & (v != 'churn')]\n",
    "print(variables)\n",
    "\n",
    "# Concat en un vector con nombre all_features\n",
    "assembler = VectorAssembler(inputCols = variables, outputCol = 'all_features')\n",
    "model_df = assembler.transform(fe_df)\n",
    "model_df.show(5)"
   ]
  },
  {
   "cell_type": "code",
   "execution_count": 93,
   "metadata": {},
   "outputs": [
    {
     "data": {
      "application/vnd.jupyter.widget-view+json": {
       "model_id": "5e3f6fa7b7a74901bc175488afff9304",
       "version_major": 2,
       "version_minor": 0
      },
      "text/plain": [
       "VBox()"
      ]
     },
     "metadata": {},
     "output_type": "display_data"
    },
    {
     "data": {
      "application/vnd.jupyter.widget-view+json": {
       "model_id": "",
       "version_major": 2,
       "version_minor": 0
      },
      "text/plain": [
       "FloatProgress(value=0.0, bar_style='info', description='Progress:', layout=Layout(height='25px', width='50%'),…"
      ]
     },
     "metadata": {},
     "output_type": "display_data"
    },
    {
     "name": "stdout",
     "output_type": "stream",
     "text": [
      "+--------------------+-----+\n",
      "|            features|label|\n",
      "+--------------------+-----+\n",
      "|[11.0,18.0,6.0,43...|    0|\n",
      "|[14.0,10.0,5.0,24...|    0|\n",
      "|[6.0,12.0,8.0,16....|    1|\n",
      "+--------------------+-----+\n",
      "only showing top 3 rows"
     ]
    }
   ],
   "source": [
    "# Creemos nuestra matriz de modelaje\n",
    "model_df = model_df.select(model_df['all_features'].alias(\"features\"),\n",
    "                            model_df['churn'].alias(\"label\"))\n",
    "model_df.show(3)"
   ]
  },
  {
   "cell_type": "code",
   "execution_count": 94,
   "metadata": {},
   "outputs": [
    {
     "data": {
      "application/vnd.jupyter.widget-view+json": {
       "model_id": "500aa831ce1f4fc4aa18341dec0707cf",
       "version_major": 2,
       "version_minor": 0
      },
      "text/plain": [
       "VBox()"
      ]
     },
     "metadata": {},
     "output_type": "display_data"
    },
    {
     "data": {
      "application/vnd.jupyter.widget-view+json": {
       "model_id": "",
       "version_major": 2,
       "version_minor": 0
      },
      "text/plain": [
       "FloatProgress(value=0.0, bar_style='info', description='Progress:', layout=Layout(height='25px', width='50%'),…"
      ]
     },
     "metadata": {},
     "output_type": "display_data"
    }
   ],
   "source": [
    "# Dividamos en train test\n",
    "train, test = model_df.randomSplit([0.8, 0.2], seed=568)"
   ]
  },
  {
   "cell_type": "code",
   "execution_count": 95,
   "metadata": {},
   "outputs": [
    {
     "data": {
      "application/vnd.jupyter.widget-view+json": {
       "model_id": "55134913c3f843c5ad68e51bd1cc5fc4",
       "version_major": 2,
       "version_minor": 0
      },
      "text/plain": [
       "VBox()"
      ]
     },
     "metadata": {},
     "output_type": "display_data"
    },
    {
     "data": {
      "application/vnd.jupyter.widget-view+json": {
       "model_id": "",
       "version_major": 2,
       "version_minor": 0
      },
      "text/plain": [
       "FloatProgress(value=0.0, bar_style='info', description='Progress:', layout=Layout(height='25px', width='50%'),…"
      ]
     },
     "metadata": {},
     "output_type": "display_data"
    }
   ],
   "source": [
    "# Evaluador f1\n",
    "f1_evaluator = MulticlassClassificationEvaluator(metricName = 'f1')"
   ]
  },
  {
   "cell_type": "code",
   "execution_count": 96,
   "metadata": {},
   "outputs": [
    {
     "data": {
      "application/vnd.jupyter.widget-view+json": {
       "model_id": "9f9a1e7d3dda4afe8b9afa8813876cae",
       "version_major": 2,
       "version_minor": 0
      },
      "text/plain": [
       "VBox()"
      ]
     },
     "metadata": {},
     "output_type": "display_data"
    },
    {
     "data": {
      "application/vnd.jupyter.widget-view+json": {
       "model_id": "",
       "version_major": 2,
       "version_minor": 0
      },
      "text/plain": [
       "FloatProgress(value=0.0, bar_style='info', description='Progress:', layout=Layout(height='25px', width='50%'),…"
      ]
     },
     "metadata": {},
     "output_type": "display_data"
    },
    {
     "name": "stdout",
     "output_type": "stream",
     "text": [
      "Logistic Regression F1-Score: 68.83"
     ]
    }
   ],
   "source": [
    "# Definamos el modelo\n",
    "lr = LogisticRegression(elasticNetParam=0)\n",
    "\n",
    "# BUsqueda en grid\n",
    "paramGrid_lr = ParamGridBuilder() \\\n",
    "            .addGrid(lr.regParam, [0.0, 0.1]) \\\n",
    "            .addGrid(lr.maxIter, [10, 50]) \\\n",
    "            .build()\n",
    "\n",
    "\n",
    "# Define cross-validation\n",
    "crossval_lr = CrossValidator(estimator = lr,\n",
    "                          estimatorParamMaps = paramGrid_lr,\n",
    "                          evaluator = f1_evaluator,\n",
    "                          numFolds =3)\n",
    "\n",
    "# Entrenar modelo\n",
    "lr_model = crossval_lr.fit(train)\n",
    "\n",
    "# Hacer predicciones\n",
    "lr_preds = lr_model.transform(test)\n",
    "\n",
    "# F1\n",
    "lr_f1_score = f1_evaluator.evaluate(lr_preds)\n",
    "print('Logistic Regression F1-Score: {}'.format(round(lr_f1_score*100,2)))"
   ]
  }
 ],
 "metadata": {
  "kernelspec": {
   "display_name": "PySpark",
   "language": "",
   "name": "pysparkkernel"
  },
  "language_info": {
   "codemirror_mode": {
    "name": "python",
    "version": 3
   },
   "mimetype": "text/x-python",
   "name": "pyspark",
   "pygments_lexer": "python3"
  }
 },
 "nbformat": 4,
 "nbformat_minor": 4
}
