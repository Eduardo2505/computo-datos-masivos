{
  "nbformat": 4,
  "nbformat_minor": 0,
  "metadata": {
    "colab": {
      "name": "06_R_Sagemaker.ipynb",
      "provenance": [],
      "authorship_tag": "ABX9TyNmo21xpUIB7w973HJ9BR/7",
      "include_colab_link": true
    },
    "kernelspec": {
      "name": "ir",
      "display_name": "R"
    }
  },
  "cells": [
    {
      "cell_type": "markdown",
      "metadata": {
        "id": "view-in-github",
        "colab_type": "text"
      },
      "source": [
        "<a href=\"https://colab.research.google.com/github/IEXE-Tec/computo-datos-masivos/blob/master/06_R_Sagemaker.ipynb\" target=\"_parent\"><img src=\"https://colab.research.google.com/assets/colab-badge.svg\" alt=\"Open In Colab\"/></a>"
      ]
    },
    {
      "cell_type": "markdown",
      "metadata": {
        "id": "O-jwpjbH2qrf"
      },
      "source": [
        "# Introduccion a R"
      ]
    },
    {
      "cell_type": "markdown",
      "metadata": {
        "id": "a6pICO9z2x0G"
      },
      "source": [
        "Para conocer las demas formas de ejecutar codigo de R en Colab, puedes revisar el siguiente articulo:   \n",
        "https://towardsdatascience.com/how-to-use-r-in-google-colab-b6e02d736497 "
      ]
    },
    {
      "cell_type": "code",
      "metadata": {
        "id": "ssag-A822t8i"
      },
      "source": [
        ""
      ],
      "execution_count": null,
      "outputs": []
    }
  ]
}