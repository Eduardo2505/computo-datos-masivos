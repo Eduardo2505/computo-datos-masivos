{
  "nbformat": 4,
  "nbformat_minor": 0,
  "metadata": {
    "colab": {
      "name": "06_R_Sagemaker.ipynb",
      "provenance": [],
      "collapsed_sections": [],
      "authorship_tag": "ABX9TyNrqL5mScG+oLtWt0ML0j7s",
      "include_colab_link": true
    },
    "kernelspec": {
      "name": "ir",
      "display_name": "R"
    }
  },
  "cells": [
    {
      "cell_type": "markdown",
      "metadata": {
        "id": "view-in-github",
        "colab_type": "text"
      },
      "source": [
        "<a href=\"https://colab.research.google.com/github/IEXE-Tec/computo-datos-masivos/blob/master/06_R_Sagemaker.ipynb\" target=\"_parent\"><img src=\"https://colab.research.google.com/assets/colab-badge.svg\" alt=\"Open In Colab\"/></a>"
      ]
    },
    {
      "cell_type": "markdown",
      "metadata": {
        "id": "O-jwpjbH2qrf"
      },
      "source": [
        "# Introduccion a R"
      ]
    },
    {
      "cell_type": "markdown",
      "metadata": {
        "id": "pUYBaXD56sWV"
      },
      "source": [
        "El manual completo para el lenguaje R se encuentra en: https://cran.r-project.org/doc/manuals/r-release/R-intro.pdf "
      ]
    },
    {
      "cell_type": "markdown",
      "metadata": {
        "id": "a6pICO9z2x0G"
      },
      "source": [
        "Para conocer las demas formas de ejecutar codigo de R en Colab, puedes revisar el siguiente articulo:   \n",
        "https://towardsdatascience.com/how-to-use-r-in-google-colab-b6e02d736497 "
      ]
    },
    {
      "cell_type": "markdown",
      "metadata": {
        "id": "Nsz0Lv4k3ZDX"
      },
      "source": [
        "Veamos que version de R tenemos en nuestro Colab"
      ]
    },
    {
      "cell_type": "code",
      "metadata": {
        "colab": {
          "base_uri": "https://localhost:8080/",
          "height": 278
        },
        "id": "ssag-A822t8i",
        "outputId": "a8105cd5-b91f-45fa-ad39-70a0ae719265"
      },
      "source": [
        "R.version"
      ],
      "execution_count": 2,
      "outputs": [
        {
          "output_type": "display_data",
          "data": {
            "text/plain": [
              "               _                           \n",
              "platform       x86_64-pc-linux-gnu         \n",
              "arch           x86_64                      \n",
              "os             linux-gnu                   \n",
              "system         x86_64, linux-gnu           \n",
              "status                                     \n",
              "major          4                           \n",
              "minor          0.3                         \n",
              "year           2020                        \n",
              "month          10                          \n",
              "day            10                          \n",
              "svn rev        79318                       \n",
              "language       R                           \n",
              "version.string R version 4.0.3 (2020-10-10)\n",
              "nickname       Bunny-Wunnies Freak Out     "
            ]
          },
          "metadata": {
            "tags": []
          }
        }
      ]
    },
    {
      "cell_type": "markdown",
      "metadata": {
        "id": "5n9x5fAB3iiN"
      },
      "source": [
        "Para acceder a la documentacion de laguna funcion podemos utilizar la funcion  `help`. "
      ]
    },
    {
      "cell_type": "code",
      "metadata": {
        "id": "Ssx33OeQ3rKA"
      },
      "source": [
        "help('print')"
      ],
      "execution_count": 3,
      "outputs": []
    },
    {
      "cell_type": "markdown",
      "metadata": {
        "id": "HbYD8ESj5AX2"
      },
      "source": [
        "## Listas"
      ]
    },
    {
      "cell_type": "markdown",
      "metadata": {
        "id": "7yCr_UjN5Gta"
      },
      "source": [
        "Creemos una lista que contenga los valores del 1 al 1000.  \n",
        "A diferencia de python las secuencias incluyen la cabeza y la cola. Observa como la siguiente secuencia va de 1 a 100."
      ]
    },
    {
      "cell_type": "code",
      "metadata": {
        "colab": {
          "base_uri": "https://localhost:8080/"
        },
        "id": "b_BOP8vu5DUu",
        "outputId": "88701ee1-4a44-4d5a-fcaf-eae12cc2ce05"
      },
      "source": [
        "a = 1:100\n",
        "print(a)"
      ],
      "execution_count": 8,
      "outputs": [
        {
          "output_type": "stream",
          "text": [
            "  [1]   1   2   3   4   5   6   7   8   9  10  11  12  13  14  15  16  17  18\n",
            " [19]  19  20  21  22  23  24  25  26  27  28  29  30  31  32  33  34  35  36\n",
            " [37]  37  38  39  40  41  42  43  44  45  46  47  48  49  50  51  52  53  54\n",
            " [55]  55  56  57  58  59  60  61  62  63  64  65  66  67  68  69  70  71  72\n",
            " [73]  73  74  75  76  77  78  79  80  81  82  83  84  85  86  87  88  89  90\n",
            " [91]  91  92  93  94  95  96  97  98  99 100\n"
          ],
          "name": "stdout"
        }
      ]
    },
    {
      "cell_type": "markdown",
      "metadata": {
        "id": "7e0PHYZf6dlu"
      },
      "source": [
        "La funcion class nos indica que tipo de datos tiene la lista a. En este caso es integer."
      ]
    },
    {
      "cell_type": "code",
      "metadata": {
        "colab": {
          "base_uri": "https://localhost:8080/",
          "height": 34
        },
        "id": "3P8mO8yU6YOt",
        "outputId": "4bc49bc8-3aef-4d84-9333-144216fdb566"
      },
      "source": [
        "class(a)"
      ],
      "execution_count": 11,
      "outputs": [
        {
          "output_type": "display_data",
          "data": {
            "text/plain": [
              "[1] \"integer\""
            ],
            "text/latex": "'integer'",
            "text/markdown": "'integer'",
            "text/html": [
              "'integer'"
            ]
          },
          "metadata": {
            "tags": []
          }
        }
      ]
    },
    {
      "cell_type": "markdown",
      "metadata": {
        "id": "2i2sXWDz5MsX"
      },
      "source": [
        "**Indexing**  \n",
        "**A diferencia de python, R usa indices que empiezan en 1** Puedes, pensar en en los arrays como vectores o matrices."
      ]
    },
    {
      "cell_type": "code",
      "metadata": {
        "colab": {
          "base_uri": "https://localhost:8080/",
          "height": 17
        },
        "id": "CdWY0wOJ5enE",
        "outputId": "2fab8ac0-f5d4-4ec5-86fb-5af5444a3442"
      },
      "source": [
        "a[0]"
      ],
      "execution_count": 9,
      "outputs": [
        {
          "output_type": "display_data",
          "data": {
            "text/plain": [
              "integer(0)"
            ],
            "text/latex": "",
            "text/markdown": "",
            "text/html": [
              ""
            ]
          },
          "metadata": {
            "tags": []
          }
        }
      ]
    },
    {
      "cell_type": "code",
      "metadata": {
        "colab": {
          "base_uri": "https://localhost:8080/",
          "height": 34
        },
        "id": "ULoa1QTi5glQ",
        "outputId": "2a421500-3c91-449a-885b-be820460bb29"
      },
      "source": [
        "a[1]"
      ],
      "execution_count": 10,
      "outputs": [
        {
          "output_type": "display_data",
          "data": {
            "text/plain": [
              "[1] 1"
            ],
            "text/latex": "1",
            "text/markdown": "1",
            "text/html": [
              "1"
            ]
          },
          "metadata": {
            "tags": []
          }
        }
      ]
    },
    {
      "cell_type": "code",
      "metadata": {
        "colab": {
          "base_uri": "https://localhost:8080/",
          "height": 34
        },
        "id": "nscGK5q8_ai3",
        "outputId": "382a5b27-c55b-4f5a-9c24-13cb5edd075f"
      },
      "source": [
        "a[2:3]"
      ],
      "execution_count": 33,
      "outputs": [
        {
          "output_type": "display_data",
          "data": {
            "text/plain": [
              "[1] 6 7"
            ],
            "text/latex": "\\begin{enumerate*}\n\\item 6\n\\item 7\n\\end{enumerate*}\n",
            "text/markdown": "1. 6\n2. 7\n\n\n",
            "text/html": [
              "<style>\n",
              ".list-inline {list-style: none; margin:0; padding: 0}\n",
              ".list-inline>li {display: inline-block}\n",
              ".list-inline>li:not(:last-child)::after {content: \"\\00b7\"; padding: 0 .5ex}\n",
              "</style>\n",
              "<ol class=list-inline><li>6</li><li>7</li></ol>\n"
            ]
          },
          "metadata": {
            "tags": []
          }
        }
      ]
    },
    {
      "cell_type": "markdown",
      "metadata": {
        "id": "rJ5hqchr_NGQ"
      },
      "source": [
        "**c** La funcion c en R es la forma clasica de crear listas"
      ]
    },
    {
      "cell_type": "code",
      "metadata": {
        "colab": {
          "base_uri": "https://localhost:8080/"
        },
        "id": "mV_2gi3l_Rn4",
        "outputId": "e667c472-1026-45e1-afb3-f2ccad303b58"
      },
      "source": [
        "x = c(1, 5, 6)\n",
        "print(x)"
      ],
      "execution_count": 34,
      "outputs": [
        {
          "output_type": "stream",
          "text": [
            "[1] 1 5 6\n",
            "[1]  5  9 10\n"
          ],
          "name": "stdout"
        }
      ]
    },
    {
      "cell_type": "markdown",
      "metadata": {
        "id": "_iysA7pBBCLF"
      },
      "source": [
        "Las listas pueden contener varios tipos de datos. Observa como en la siguiente celda los integers son convertidos a caracteres."
      ]
    },
    {
      "cell_type": "code",
      "metadata": {
        "colab": {
          "base_uri": "https://localhost:8080/",
          "height": 34
        },
        "id": "0Ake8ywNBFN3",
        "outputId": "696676b6-d5a6-44bd-d717-45abdedadf47"
      },
      "source": [
        "class(c(1, 3, \"a\"))"
      ],
      "execution_count": 40,
      "outputs": [
        {
          "output_type": "display_data",
          "data": {
            "text/plain": [
              "[1] \"character\""
            ],
            "text/latex": "'character'",
            "text/markdown": "'character'",
            "text/html": [
              "'character'"
            ]
          },
          "metadata": {
            "tags": []
          }
        }
      ]
    },
    {
      "cell_type": "markdown",
      "metadata": {
        "id": "9_1abNQ3_pXQ"
      },
      "source": [
        "## Slicing\n",
        "En R podemos usar vectores para hacer slicing de las listas. Parecido al iloc y el index que utilizamos en pandas. Puedes pensar a las listas como un vector."
      ]
    },
    {
      "cell_type": "code",
      "metadata": {
        "colab": {
          "base_uri": "https://localhost:8080/"
        },
        "id": "5656WBY9_vmr",
        "outputId": "a7208a30-6317-48f6-a7c4-53cbe8096240"
      },
      "source": [
        "x = 1:10\n",
        "a = c(1, 5, 10)\n",
        "print(x[a])\n",
        "print(x[c(1, 10, 7)])"
      ],
      "execution_count": 37,
      "outputs": [
        {
          "output_type": "stream",
          "text": [
            "[1]  1  5 10\n",
            "[1]  1 10  7\n"
          ],
          "name": "stdout"
        }
      ]
    },
    {
      "cell_type": "markdown",
      "metadata": {
        "id": "eMXXxnXxAJnr"
      },
      "source": [
        "**Abstraccion de listas** En R las listas son parecidos a los vectores, y los dataframes como matrices. Por ello sus indices comienzan en 1, y podemos hacer slicing con listas que contengan los indices que queremos utilizar."
      ]
    },
    {
      "cell_type": "markdown",
      "metadata": {
        "id": "pSBBBxbJ697p"
      },
      "source": [
        "## For & Print\n",
        "A diferencia de python, R no utiliza identacion para definir loops o condicionales. Estos bloques de codigo estan definicos por los parentesis `(){}`. \n",
        "+ `()` Define la parde condicional o el iterador.\n",
        "+ `{}` Define el bloque de codigo que se ejecutara."
      ]
    },
    {
      "cell_type": "code",
      "metadata": {
        "colab": {
          "base_uri": "https://localhost:8080/"
        },
        "id": "YuVWosGi71sH",
        "outputId": "47a79ed0-f76d-4851-b38f-e809904ee806"
      },
      "source": [
        "a = 5:10\n",
        "for (i in a){\n",
        "print(i)\n",
        "}"
      ],
      "execution_count": 13,
      "outputs": [
        {
          "output_type": "stream",
          "text": [
            "[1] 5\n",
            "[1] 6\n",
            "[1] 7\n",
            "[1] 8\n",
            "[1] 9\n",
            "[1] 10\n"
          ],
          "name": "stdout"
        }
      ]
    },
    {
      "cell_type": "markdown",
      "metadata": {
        "id": "fUVD4qbo-mon"
      },
      "source": [
        "`paste` es una funcion que concatena/pega strings. Tambien podriamos hacer uso de la funcion `sprintf` que tiene una sintaxis parecida a la forma de imprimir de python."
      ]
    },
    {
      "cell_type": "code",
      "metadata": {
        "colab": {
          "base_uri": "https://localhost:8080/"
        },
        "id": "8SAtKriq8ZQ6",
        "outputId": "04235a22-13a9-4c3d-f447-50a2f1a94c61"
      },
      "source": [
        "for (i in 1:length(a)){\n",
        "  print(paste(\"El indice \", i, \" del array a contiene el valor\", a[i]))\n",
        "}"
      ],
      "execution_count": 31,
      "outputs": [
        {
          "output_type": "stream",
          "text": [
            "[1] \"El indice  1  del array a contiene el valor 5\"\n",
            "[1] \"El indice  2  del array a contiene el valor 6\"\n",
            "[1] \"El indice  3  del array a contiene el valor 7\"\n",
            "[1] \"El indice  4  del array a contiene el valor 8\"\n",
            "[1] \"El indice  5  del array a contiene el valor 9\"\n",
            "[1] \"El indice  6  del array a contiene el valor 10\"\n"
          ],
          "name": "stdout"
        }
      ]
    },
    {
      "cell_type": "markdown",
      "metadata": {
        "id": "evLQ_h0YAxcz"
      },
      "source": [
        "Al igual que python podemos iterar sobre las listas."
      ]
    },
    {
      "cell_type": "code",
      "metadata": {
        "colab": {
          "base_uri": "https://localhost:8080/"
        },
        "id": "dPtOI5ZqAmXP",
        "outputId": "cfd0bee0-fd5e-4253-cbbf-f68e86c7c5da"
      },
      "source": [
        "for (i in c(1,3 , \"ax\")){\n",
        "  print(i)\n",
        "}"
      ],
      "execution_count": 38,
      "outputs": [
        {
          "output_type": "stream",
          "text": [
            "[1] \"1\"\n",
            "[1] \"3\"\n",
            "[1] \"ax\"\n"
          ],
          "name": "stdout"
        }
      ]
    },
    {
      "cell_type": "markdown",
      "metadata": {
        "id": "63Ch7trbBPB3"
      },
      "source": [
        "## While & <-"
      ]
    },
    {
      "cell_type": "markdown",
      "metadata": {
        "id": "cemmOBJpBeMo"
      },
      "source": [
        "`while` funcionan igual que en python, y siguen la misma estructura que el `for`. Observa como la identacion no afecta."
      ]
    },
    {
      "cell_type": "code",
      "metadata": {
        "colab": {
          "base_uri": "https://localhost:8080/"
        },
        "id": "3Za0bpSYBQKm",
        "outputId": "539fd466-978b-4d20-96e3-97954c78b561"
      },
      "source": [
        "y <- 1\n",
        "while( y < 5){\n",
        "  print(y)\n",
        "y = y + 1\n",
        "}"
      ],
      "execution_count": 45,
      "outputs": [
        {
          "output_type": "stream",
          "text": [
            "[1] 1\n",
            "[1] 2\n",
            "[1] 3\n",
            "[1] 4\n"
          ],
          "name": "stdout"
        }
      ]
    },
    {
      "cell_type": "markdown",
      "metadata": {
        "id": "xQVTOj54CsG-"
      },
      "source": [
        "En R es comun observar el operador `<-` que en general es identico a `=`, de hecho es mas normal observar la flecha. La documentacion de R indica que `=` solo puede usarse en el top-level del `codigo`, pero es falso como podemos ver en el siguiente ejemplo."
      ]
    },
    {
      "cell_type": "code",
      "metadata": {
        "colab": {
          "base_uri": "https://localhost:8080/",
          "height": 34
        },
        "id": "qm5tZ7wtDZ1g",
        "outputId": "f994f7fc-2c89-4170-e5b6-45d66c1f6181"
      },
      "source": [
        "sum((x = 1), 2)"
      ],
      "execution_count": 44,
      "outputs": [
        {
          "output_type": "display_data",
          "data": {
            "text/plain": [
              "[1] 3"
            ],
            "text/latex": "3",
            "text/markdown": "3",
            "text/html": [
              "3"
            ]
          },
          "metadata": {
            "tags": []
          }
        }
      ]
    },
    {
      "cell_type": "markdown",
      "metadata": {
        "id": "o4dAz-WvDebj"
      },
      "source": [
        "En general, `<-` lo usamos para asignar valores para objetos y funciones, y el igual para comparaciones booleanas o funciones de jerarquia diferente."
      ]
    },
    {
      "cell_type": "markdown",
      "metadata": {
        "id": "5xet5QoJENYG"
      },
      "source": [
        "## If & Anidados"
      ]
    },
    {
      "cell_type": "markdown",
      "metadata": {
        "id": "3eNHiRBJEkWm"
      },
      "source": [
        "`if` funciona igual que `for` y `while`. Observa como podemos anidar clausulas de flujo, y limitar su jerarquia con los parentesis `{}`"
      ]
    },
    {
      "cell_type": "code",
      "metadata": {
        "colab": {
          "base_uri": "https://localhost:8080/"
        },
        "id": "Mxldzh6XEO6n",
        "outputId": "31ea131d-a345-438c-e51c-fd9184244ed4"
      },
      "source": [
        "x <- 6\n",
        "if (x > 5){\n",
        "print('Inicia for Loop')\n",
        "  for(i in c(\"a\",2,3,5)){\n",
        "    print(i)\n",
        "  }\n",
        "x <- 4\n",
        "}\n",
        "\n",
        "print(x)"
      ],
      "execution_count": 47,
      "outputs": [
        {
          "output_type": "stream",
          "text": [
            "[1] \"Inicia for Loop\"\n",
            "[1] \"a\"\n",
            "[1] \"2\"\n",
            "[1] \"3\"\n",
            "[1] \"5\"\n",
            "[1] 4\n"
          ],
          "name": "stdout"
        }
      ]
    },
    {
      "cell_type": "markdown",
      "metadata": {
        "id": "tbwWcqXQE2rJ"
      },
      "source": [
        "## Funciones"
      ]
    },
    {
      "cell_type": "markdown",
      "metadata": {
        "id": "q698ZL9YFAXm"
      },
      "source": [
        "La sintaxis para definir una funcion es la siguiente:\n",
        "``` nombre_funcion <- function(arg1, arg2,...,argn){  ... return(valor_de_retorno) }```"
      ]
    },
    {
      "cell_type": "markdown",
      "metadata": {
        "id": "4sLkspzVFbcI"
      },
      "source": [
        "Definamos la funcion suma"
      ]
    },
    {
      "cell_type": "code",
      "metadata": {
        "id": "QF2vyEDiE5SR"
      },
      "source": [
        "suma <- function(a,b){\n",
        "  s <- a + b\n",
        "  return (s)\n",
        "}"
      ],
      "execution_count": 52,
      "outputs": []
    },
    {
      "cell_type": "code",
      "metadata": {
        "colab": {
          "base_uri": "https://localhost:8080/",
          "height": 34
        },
        "id": "PwM_Cz4QF7f7",
        "outputId": "28bd5dd4-6e7d-4062-8155-0d314586b31a"
      },
      "source": [
        "suma(3,4)"
      ],
      "execution_count": 53,
      "outputs": [
        {
          "output_type": "display_data",
          "data": {
            "text/plain": [
              "[1] 7"
            ],
            "text/latex": "7",
            "text/markdown": "7",
            "text/html": [
              "7"
            ]
          },
          "metadata": {
            "tags": []
          }
        }
      ]
    },
    {
      "cell_type": "markdown",
      "metadata": {
        "id": "UKbbJ6_HGH2Y"
      },
      "source": [
        "Tambien podemos omitir el keyword **return**, y por default regresara el ultimo valor/operacion calculada."
      ]
    },
    {
      "cell_type": "code",
      "metadata": {
        "id": "vNiT5qq1GRa2"
      },
      "source": [
        "resta <- function(a, b){\n",
        "  s <- a-b\n",
        "}"
      ],
      "execution_count": 62,
      "outputs": []
    },
    {
      "cell_type": "code",
      "metadata": {
        "colab": {
          "base_uri": "https://localhost:8080/",
          "height": 34
        },
        "id": "69GyTLeoGwpr",
        "outputId": "f15afe33-202a-4638-8510-fc2027587f9a"
      },
      "source": [
        "z <- resta(4,3)\n",
        "z"
      ],
      "execution_count": 65,
      "outputs": [
        {
          "output_type": "display_data",
          "data": {
            "text/plain": [
              "[1] 1"
            ],
            "text/latex": "1",
            "text/markdown": "1",
            "text/html": [
              "1"
            ]
          },
          "metadata": {
            "tags": []
          }
        }
      ]
    },
    {
      "cell_type": "markdown",
      "metadata": {
        "id": "sXXOIIypHdpW"
      },
      "source": [
        "## Funciones vectoriales"
      ]
    },
    {
      "cell_type": "markdown",
      "metadata": {
        "id": "5rTMR4jiHiux"
      },
      "source": [
        "A diferencia de python, las funciones de R extrapolan los inputs vectoriales a funciones de manera nativa."
      ]
    },
    {
      "cell_type": "code",
      "metadata": {
        "colab": {
          "base_uri": "https://localhost:8080/"
        },
        "id": "EAiBbBXTJpoX",
        "outputId": "dad34412-4487-4d07-efcb-8b60327fe45f"
      },
      "source": [
        "z <- suma(c(4,5), c(1,2))\n",
        "print(z)\n",
        "print(z[1])\n",
        "print(z[2])"
      ],
      "execution_count": 74,
      "outputs": [
        {
          "output_type": "stream",
          "text": [
            "[1] 5 7\n",
            "[1] 5\n",
            "[1] 7\n"
          ],
          "name": "stdout"
        }
      ]
    },
    {
      "cell_type": "code",
      "metadata": {
        "colab": {
          "base_uri": "https://localhost:8080/",
          "height": 34
        },
        "id": "TvAcsdQYJ2WI",
        "outputId": "8fc5c48f-dc76-40fa-cc35-f4322dec8c22"
      },
      "source": [
        "class(z)"
      ],
      "execution_count": 71,
      "outputs": [
        {
          "output_type": "display_data",
          "data": {
            "text/plain": [
              "[1] \"numeric\""
            ],
            "text/latex": "'numeric'",
            "text/markdown": "'numeric'",
            "text/html": [
              "'numeric'"
            ]
          },
          "metadata": {
            "tags": []
          }
        }
      ]
    },
    {
      "cell_type": "markdown",
      "metadata": {
        "id": "FyPVerzgKMHn"
      },
      "source": [
        "**Que pasa si los inputs no tienen las dimensiones correctas?**"
      ]
    },
    {
      "cell_type": "code",
      "metadata": {
        "colab": {
          "base_uri": "https://localhost:8080/"
        },
        "id": "-4-02I98KIYm",
        "outputId": "dee35a7f-169f-4aee-b64d-8821b3ba05a0"
      },
      "source": [
        "z <- suma(c(4,5,-1), c(1,2))\n",
        "print(z)"
      ],
      "execution_count": 76,
      "outputs": [
        {
          "output_type": "stream",
          "text": [
            "Warning message in a + b:\n",
            "“longer object length is not a multiple of shorter object length”\n"
          ],
          "name": "stderr"
        },
        {
          "output_type": "stream",
          "text": [
            "[1] 5 7 0\n"
          ],
          "name": "stdout"
        }
      ]
    },
    {
      "cell_type": "markdown",
      "metadata": {
        "id": "Qv7ZDNciKTTo"
      },
      "source": [
        "Nos manda un `warning` y extrapola la dimension faltante repitiendo los valores del vector con dimension menor, respetando el orden. En nuestro caso dado que `c(1,2)` tiene una dimension menos que `c(4,5-1)` R realiza la operacion con `c(1,2,1)`. Veamos otro ejemplo."
      ]
    },
    {
      "cell_type": "code",
      "metadata": {
        "colab": {
          "base_uri": "https://localhost:8080/"
        },
        "id": "sHuu8ZtdLuZd",
        "outputId": "37f7ba16-c8e4-43fa-fd9b-26837868384a"
      },
      "source": [
        "z <- suma(c(4,5,-1,0), c(1,2))\n",
        "print(z)"
      ],
      "execution_count": 77,
      "outputs": [
        {
          "output_type": "stream",
          "text": [
            "[1] 5 7 0 2\n"
          ],
          "name": "stdout"
        }
      ]
    },
    {
      "cell_type": "markdown",
      "metadata": {
        "id": "gJXQA_DAL-r7"
      },
      "source": [
        "Lo mismo pasa cuando aplicamos operaciones a las listas, pero **no se emite el warning**."
      ]
    },
    {
      "cell_type": "code",
      "metadata": {
        "colab": {
          "base_uri": "https://localhost:8080/"
        },
        "id": "BUdox2VHL2Ei",
        "outputId": "2f68dbdb-49f6-469d-8c33-359ce748054b"
      },
      "source": [
        "z <- c(4,5,-1,0) + c(1,2)\n",
        "print(z)"
      ],
      "execution_count": 79,
      "outputs": [
        {
          "output_type": "stream",
          "text": [
            "[1] 5 7 0 2\n"
          ],
          "name": "stdout"
        }
      ]
    }
  ]
}